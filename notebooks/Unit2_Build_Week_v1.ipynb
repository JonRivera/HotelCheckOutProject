{
 "cells": [
  {
   "cell_type": "code",
   "execution_count": 1,
   "metadata": {},
   "outputs": [
    {
     "name": "stdout",
     "output_type": "stream",
     "text": [
      "Package               Version\n",
      "--------------------- -----------\n",
      "appnope               0.1.0\n",
      "as                    0.1\n",
      "astropy               4.0.1.post1\n",
      "attrs                 19.3.0\n",
      "backcall              0.2.0\n",
      "bleach                3.1.5\n",
      "Brotli                1.0.7\n",
      "category-encoders     2.2.2\n",
      "certifi               2020.6.20\n",
      "chardet               3.0.4\n",
      "click                 7.1.2\n",
      "confuse               1.3.0\n",
      "cycler                0.10.0\n",
      "dash                  1.13.4\n",
      "dash-core-components  1.10.1\n",
      "dash-html-components  1.0.3\n",
      "dash-renderer         1.5.1\n",
      "dash-table            4.8.1\n",
      "decorator             4.4.2\n",
      "defusedxml            0.6.0\n",
      "eli5                  0.10.1\n",
      "entrypoints           0.3\n",
      "Flask                 1.1.2\n",
      "Flask-Compress        1.5.0\n",
      "future                0.18.2\n",
      "graphviz              0.14.1\n",
      "htmlmin               0.1.12\n",
      "idna                  2.10\n",
      "ImageHash             4.1.0\n",
      "importlib-metadata    1.7.0\n",
      "ipykernel             5.3.2\n",
      "ipython               7.16.1\n",
      "ipython-genutils      0.2.0\n",
      "ipywidgets            7.5.1\n",
      "itsdangerous          1.1.0\n",
      "jedi                  0.17.1\n",
      "Jinja2                2.11.2\n",
      "joblib                0.16.0\n",
      "json5                 0.9.5\n",
      "jsonschema            3.2.0\n",
      "jupyter               1.0.0\n",
      "jupyter-client        6.1.5\n",
      "jupyter-console       6.1.0\n",
      "jupyter-core          4.6.3\n",
      "jupyterlab            2.1.5\n",
      "jupyterlab-server     1.2.0\n",
      "kiwisolver            1.2.0\n",
      "llvmlite              0.33.0\n",
      "MarkupSafe            1.1.1\n",
      "matplotlib            3.2.2\n",
      "missingno             0.4.2\n",
      "mistune               0.8.4\n",
      "nbconvert             5.6.1\n",
      "nbformat              5.0.7\n",
      "networkx              2.4\n",
      "notebook              6.0.3\n",
      "numba                 0.50.1\n",
      "numpy                 1.19.0\n",
      "packaging             20.4\n",
      "pandas                1.0.5\n",
      "pandas-profiling      2.8.0\n",
      "pandocfilters         1.4.2\n",
      "parso                 0.7.0\n",
      "patsy                 0.5.1\n",
      "PDPbox                0.2.0\n",
      "pexpect               4.8.0\n",
      "phik                  0.10.0\n",
      "pickleshare           0.7.5\n",
      "Pillow                7.2.0\n",
      "pip                   20.1.1\n",
      "plotly                4.8.2\n",
      "prometheus-client     0.8.0\n",
      "prompt-toolkit        3.0.5\n",
      "psutil                5.7.2\n",
      "ptyprocess            0.6.0\n",
      "Pygments              2.6.1\n",
      "pyparsing             2.4.7\n",
      "pyrsistent            0.16.0\n",
      "python-dateutil       2.8.1\n",
      "pytz                  2020.1\n",
      "PyWavelets            1.1.1\n",
      "PyYAML                5.3.1\n",
      "pyzmq                 19.0.1\n",
      "qtconsole             4.7.5\n",
      "QtPy                  1.9.0\n",
      "requests              2.24.0\n",
      "retrying              1.3.3\n",
      "scikit-learn          0.23.1\n",
      "scipy                 1.5.1\n",
      "seaborn               0.10.1\n",
      "Send2Trash            1.5.0\n",
      "setuptools            49.1.0\n",
      "shap                  0.35.0\n",
      "six                   1.15.0\n",
      "sklearn               0.0\n",
      "slicer                0.0.2\n",
      "statsmodels           0.11.1\n",
      "tabulate              0.8.7\n",
      "tangled-up-in-unicode 0.0.6\n",
      "terminado             0.8.3\n",
      "testpath              0.4.4\n",
      "threadpoolctl         2.1.0\n",
      "tornado               6.0.4\n",
      "tqdm                  4.47.0\n",
      "traitlets             4.3.3\n",
      "urllib3               1.25.9\n",
      "visions               0.4.4\n",
      "wcwidth               0.2.5\n",
      "webencodings          0.5.1\n",
      "Werkzeug              1.0.1\n",
      "wheel                 0.34.2\n",
      "widgetsnbextension    3.5.1\n",
      "xgboost               1.1.0\n",
      "zipp                  3.1.0\n"
     ]
    }
   ],
   "source": [
    "#libraries/Packages versions used for this Project\n",
    "!pip list"
   ]
  },
  {
   "cell_type": "code",
   "execution_count": 2,
   "metadata": {},
   "outputs": [
    {
     "name": "stdout",
     "output_type": "stream",
     "text": [
      "Requirement already satisfied: xgboost in /Users/johnrivera/.virtualenvs/jupyter/lib/python3.7/site-packages (1.1.0)\n",
      "Requirement already satisfied: scipy in /Users/johnrivera/.virtualenvs/jupyter/lib/python3.7/site-packages (from xgboost) (1.5.1)\n",
      "Requirement already satisfied: numpy in /Users/johnrivera/.virtualenvs/jupyter/lib/python3.7/site-packages (from xgboost) (1.19.0)\n",
      "Requirement already satisfied: sklearn in /Users/johnrivera/.virtualenvs/jupyter/lib/python3.7/site-packages (0.0)\n",
      "Requirement already satisfied: scikit-learn in /Users/johnrivera/.virtualenvs/jupyter/lib/python3.7/site-packages (from sklearn) (0.23.1)\n",
      "Requirement already satisfied: numpy>=1.13.3 in /Users/johnrivera/.virtualenvs/jupyter/lib/python3.7/site-packages (from scikit-learn->sklearn) (1.19.0)\n",
      "Requirement already satisfied: threadpoolctl>=2.0.0 in /Users/johnrivera/.virtualenvs/jupyter/lib/python3.7/site-packages (from scikit-learn->sklearn) (2.1.0)\n",
      "Requirement already satisfied: scipy>=0.19.1 in /Users/johnrivera/.virtualenvs/jupyter/lib/python3.7/site-packages (from scikit-learn->sklearn) (1.5.1)\n",
      "Requirement already satisfied: joblib>=0.11 in /Users/johnrivera/.virtualenvs/jupyter/lib/python3.7/site-packages (from scikit-learn->sklearn) (0.16.0)\n"
     ]
    }
   ],
   "source": [
    "!pip install xgboost\n",
    "!pip install sklearn\n",
    "import xgboost\n",
    "import sklearn\n",
    "import seaborn as sns\n",
    "import matplotlib.pyplot as plt\n"
   ]
  },
  {
   "cell_type": "code",
   "execution_count": 3,
   "metadata": {},
   "outputs": [],
   "source": [
    "import pandas as pd\n",
    "pd.set_option('max_columns', 40)"
   ]
  },
  {
   "cell_type": "code",
   "execution_count": 4,
   "metadata": {},
   "outputs": [
    {
     "name": "stdout",
     "output_type": "stream",
     "text": [
      "Requirement already up-to-date: scikit-learn in /Users/johnrivera/.virtualenvs/jupyter/lib/python3.7/site-packages (0.23.1)\n",
      "Requirement already satisfied, skipping upgrade: numpy>=1.13.3 in /Users/johnrivera/.virtualenvs/jupyter/lib/python3.7/site-packages (from scikit-learn) (1.19.0)\n",
      "Requirement already satisfied, skipping upgrade: scipy>=0.19.1 in /Users/johnrivera/.virtualenvs/jupyter/lib/python3.7/site-packages (from scikit-learn) (1.5.1)\n",
      "Requirement already satisfied, skipping upgrade: joblib>=0.11 in /Users/johnrivera/.virtualenvs/jupyter/lib/python3.7/site-packages (from scikit-learn) (0.16.0)\n",
      "Requirement already satisfied, skipping upgrade: threadpoolctl>=2.0.0 in /Users/johnrivera/.virtualenvs/jupyter/lib/python3.7/site-packages (from scikit-learn) (2.1.0)\n"
     ]
    }
   ],
   "source": [
    "\n",
    "!pip install -U scikit-learn\n"
   ]
  },
  {
   "cell_type": "code",
   "execution_count": 5,
   "metadata": {},
   "outputs": [],
   "source": [
    "#importing data\n",
    "import pandas as pd\n",
    "df = pd.read_csv(\"https://raw.githubusercontent.com/JonRivera/JonRivera.github.io/master/Unit2/Buil_Week/Data_Sets/Hotel_Bookings/hotel_bookings.csv\")"
   ]
  },
  {
   "cell_type": "markdown",
   "metadata": {},
   "source": [
    "## EXPLORATORY ANALYSIS \n"
   ]
  },
  {
   "cell_type": "code",
   "execution_count": 6,
   "metadata": {},
   "outputs": [
    {
     "data": {
      "image/png": "[encoded data removed]",
      "text/plain": [
       "<Figure size 432x288 with 1 Axes>"
      ]
     },
     "metadata": {
      "needs_background": "light"
     },
     "output_type": "display_data"
    }
   ],
   "source": [
    "target = 'reservation_status'\n",
    "sns.countplot(df['reservation_status']);"
   ]
  },
  {
   "cell_type": "code",
   "execution_count": 7,
   "metadata": {},
   "outputs": [
    {
     "data": {
      "text/html": [
       "<div>\n",
       "<style scoped>\n",
       "    .dataframe tbody tr th:only-of-type {\n",
       "        vertical-align: middle;\n",
       "    }\n",
       "\n",
       "    .dataframe tbody tr th {\n",
       "        vertical-align: top;\n",
       "    }\n",
       "\n",
       "    .dataframe thead th {\n",
       "        text-align: right;\n",
       "    }\n",
       "</style>\n",
       "<table border=\"1\" class=\"dataframe\">\n",
       "  <thead>\n",
       "    <tr style=\"text-align: right;\">\n",
       "      <th></th>\n",
       "      <th>is_canceled</th>\n",
       "      <th>lead_time</th>\n",
       "      <th>arrival_date_year</th>\n",
       "      <th>arrival_date_week_number</th>\n",
       "      <th>arrival_date_day_of_month</th>\n",
       "      <th>stays_in_weekend_nights</th>\n",
       "      <th>stays_in_week_nights</th>\n",
       "      <th>adults</th>\n",
       "      <th>children</th>\n",
       "      <th>babies</th>\n",
       "      <th>is_repeated_guest</th>\n",
       "      <th>previous_cancellations</th>\n",
       "      <th>previous_bookings_not_canceled</th>\n",
       "      <th>booking_changes</th>\n",
       "      <th>agent</th>\n",
       "      <th>company</th>\n",
       "      <th>days_in_waiting_list</th>\n",
       "      <th>adr</th>\n",
       "      <th>required_car_parking_spaces</th>\n",
       "      <th>total_of_special_requests</th>\n",
       "    </tr>\n",
       "  </thead>\n",
       "  <tbody>\n",
       "    <tr>\n",
       "      <th>count</th>\n",
       "      <td>119390.000000</td>\n",
       "      <td>119390.000000</td>\n",
       "      <td>119390.000000</td>\n",
       "      <td>119390.000000</td>\n",
       "      <td>119390.000000</td>\n",
       "      <td>119390.000000</td>\n",
       "      <td>119390.000000</td>\n",
       "      <td>119390.000000</td>\n",
       "      <td>119386.000000</td>\n",
       "      <td>119390.000000</td>\n",
       "      <td>119390.000000</td>\n",
       "      <td>119390.000000</td>\n",
       "      <td>119390.000000</td>\n",
       "      <td>119390.000000</td>\n",
       "      <td>103050.000000</td>\n",
       "      <td>6797.000000</td>\n",
       "      <td>119390.000000</td>\n",
       "      <td>119390.000000</td>\n",
       "      <td>119390.000000</td>\n",
       "      <td>119390.000000</td>\n",
       "    </tr>\n",
       "    <tr>\n",
       "      <th>mean</th>\n",
       "      <td>0.370416</td>\n",
       "      <td>104.011416</td>\n",
       "      <td>2016.156554</td>\n",
       "      <td>27.165173</td>\n",
       "      <td>15.798241</td>\n",
       "      <td>0.927599</td>\n",
       "      <td>2.500302</td>\n",
       "      <td>1.856403</td>\n",
       "      <td>0.103890</td>\n",
       "      <td>0.007949</td>\n",
       "      <td>0.031912</td>\n",
       "      <td>0.087118</td>\n",
       "      <td>0.137097</td>\n",
       "      <td>0.221124</td>\n",
       "      <td>86.693382</td>\n",
       "      <td>189.266735</td>\n",
       "      <td>2.321149</td>\n",
       "      <td>101.831122</td>\n",
       "      <td>0.062518</td>\n",
       "      <td>0.571363</td>\n",
       "    </tr>\n",
       "    <tr>\n",
       "      <th>std</th>\n",
       "      <td>0.482918</td>\n",
       "      <td>106.863097</td>\n",
       "      <td>0.707476</td>\n",
       "      <td>13.605138</td>\n",
       "      <td>8.780829</td>\n",
       "      <td>0.998613</td>\n",
       "      <td>1.908286</td>\n",
       "      <td>0.579261</td>\n",
       "      <td>0.398561</td>\n",
       "      <td>0.097436</td>\n",
       "      <td>0.175767</td>\n",
       "      <td>0.844336</td>\n",
       "      <td>1.497437</td>\n",
       "      <td>0.652306</td>\n",
       "      <td>110.774548</td>\n",
       "      <td>131.655015</td>\n",
       "      <td>17.594721</td>\n",
       "      <td>50.535790</td>\n",
       "      <td>0.245291</td>\n",
       "      <td>0.792798</td>\n",
       "    </tr>\n",
       "    <tr>\n",
       "      <th>min</th>\n",
       "      <td>0.000000</td>\n",
       "      <td>0.000000</td>\n",
       "      <td>2015.000000</td>\n",
       "      <td>1.000000</td>\n",
       "      <td>1.000000</td>\n",
       "      <td>0.000000</td>\n",
       "      <td>0.000000</td>\n",
       "      <td>0.000000</td>\n",
       "      <td>0.000000</td>\n",
       "      <td>0.000000</td>\n",
       "      <td>0.000000</td>\n",
       "      <td>0.000000</td>\n",
       "      <td>0.000000</td>\n",
       "      <td>0.000000</td>\n",
       "      <td>1.000000</td>\n",
       "      <td>6.000000</td>\n",
       "      <td>0.000000</td>\n",
       "      <td>-6.380000</td>\n",
       "      <td>0.000000</td>\n",
       "      <td>0.000000</td>\n",
       "    </tr>\n",
       "    <tr>\n",
       "      <th>25%</th>\n",
       "      <td>0.000000</td>\n",
       "      <td>18.000000</td>\n",
       "      <td>2016.000000</td>\n",
       "      <td>16.000000</td>\n",
       "      <td>8.000000</td>\n",
       "      <td>0.000000</td>\n",
       "      <td>1.000000</td>\n",
       "      <td>2.000000</td>\n",
       "      <td>0.000000</td>\n",
       "      <td>0.000000</td>\n",
       "      <td>0.000000</td>\n",
       "      <td>0.000000</td>\n",
       "      <td>0.000000</td>\n",
       "      <td>0.000000</td>\n",
       "      <td>9.000000</td>\n",
       "      <td>62.000000</td>\n",
       "      <td>0.000000</td>\n",
       "      <td>69.290000</td>\n",
       "      <td>0.000000</td>\n",
       "      <td>0.000000</td>\n",
       "    </tr>\n",
       "    <tr>\n",
       "      <th>50%</th>\n",
       "      <td>0.000000</td>\n",
       "      <td>69.000000</td>\n",
       "      <td>2016.000000</td>\n",
       "      <td>28.000000</td>\n",
       "      <td>16.000000</td>\n",
       "      <td>1.000000</td>\n",
       "      <td>2.000000</td>\n",
       "      <td>2.000000</td>\n",
       "      <td>0.000000</td>\n",
       "      <td>0.000000</td>\n",
       "      <td>0.000000</td>\n",
       "      <td>0.000000</td>\n",
       "      <td>0.000000</td>\n",
       "      <td>0.000000</td>\n",
       "      <td>14.000000</td>\n",
       "      <td>179.000000</td>\n",
       "      <td>0.000000</td>\n",
       "      <td>94.575000</td>\n",
       "      <td>0.000000</td>\n",
       "      <td>0.000000</td>\n",
       "    </tr>\n",
       "    <tr>\n",
       "      <th>75%</th>\n",
       "      <td>1.000000</td>\n",
       "      <td>160.000000</td>\n",
       "      <td>2017.000000</td>\n",
       "      <td>38.000000</td>\n",
       "      <td>23.000000</td>\n",
       "      <td>2.000000</td>\n",
       "      <td>3.000000</td>\n",
       "      <td>2.000000</td>\n",
       "      <td>0.000000</td>\n",
       "      <td>0.000000</td>\n",
       "      <td>0.000000</td>\n",
       "      <td>0.000000</td>\n",
       "      <td>0.000000</td>\n",
       "      <td>0.000000</td>\n",
       "      <td>229.000000</td>\n",
       "      <td>270.000000</td>\n",
       "      <td>0.000000</td>\n",
       "      <td>126.000000</td>\n",
       "      <td>0.000000</td>\n",
       "      <td>1.000000</td>\n",
       "    </tr>\n",
       "    <tr>\n",
       "      <th>max</th>\n",
       "      <td>1.000000</td>\n",
       "      <td>737.000000</td>\n",
       "      <td>2017.000000</td>\n",
       "      <td>53.000000</td>\n",
       "      <td>31.000000</td>\n",
       "      <td>19.000000</td>\n",
       "      <td>50.000000</td>\n",
       "      <td>55.000000</td>\n",
       "      <td>10.000000</td>\n",
       "      <td>10.000000</td>\n",
       "      <td>1.000000</td>\n",
       "      <td>26.000000</td>\n",
       "      <td>72.000000</td>\n",
       "      <td>21.000000</td>\n",
       "      <td>535.000000</td>\n",
       "      <td>543.000000</td>\n",
       "      <td>391.000000</td>\n",
       "      <td>5400.000000</td>\n",
       "      <td>8.000000</td>\n",
       "      <td>5.000000</td>\n",
       "    </tr>\n",
       "  </tbody>\n",
       "</table>\n",
       "</div>"
      ],
      "text/plain": [
       "         is_canceled      lead_time  arrival_date_year  \\\n",
       "count  119390.000000  119390.000000      119390.000000   \n",
       "mean        0.370416     104.011416        2016.156554   \n",
       "std         0.482918     106.863097           0.707476   \n",
       "min         0.000000       0.000000        2015.000000   \n",
       "25%         0.000000      18.000000        2016.000000   \n",
       "50%         0.000000      69.000000        2016.000000   \n",
       "75%         1.000000     160.000000        2017.000000   \n",
       "max         1.000000     737.000000        2017.000000   \n",
       "\n",
       "       arrival_date_week_number  arrival_date_day_of_month  \\\n",
       "count             119390.000000              119390.000000   \n",
       "mean                  27.165173                  15.798241   \n",
       "std                   13.605138                   8.780829   \n",
       "min                    1.000000                   1.000000   \n",
       "25%                   16.000000                   8.000000   \n",
       "50%                   28.000000                  16.000000   \n",
       "75%                   38.000000                  23.000000   \n",
       "max                   53.000000                  31.000000   \n",
       "\n",
       "       stays_in_weekend_nights  stays_in_week_nights         adults  \\\n",
       "count            119390.000000         119390.000000  119390.000000   \n",
       "mean                  0.927599              2.500302       1.856403   \n",
       "std                   0.998613              1.908286       0.579261   \n",
       "min                   0.000000              0.000000       0.000000   \n",
       "25%                   0.000000              1.000000       2.000000   \n",
       "50%                   1.000000              2.000000       2.000000   \n",
       "75%                   2.000000              3.000000       2.000000   \n",
       "max                  19.000000             50.000000      55.000000   \n",
       "\n",
       "            children         babies  is_repeated_guest  \\\n",
       "count  119386.000000  119390.000000      119390.000000   \n",
       "mean        0.103890       0.007949           0.031912   \n",
       "std         0.398561       0.097436           0.175767   \n",
       "min         0.000000       0.000000           0.000000   \n",
       "25%         0.000000       0.000000           0.000000   \n",
       "50%         0.000000       0.000000           0.000000   \n",
       "75%         0.000000       0.000000           0.000000   \n",
       "max        10.000000      10.000000           1.000000   \n",
       "\n",
       "       previous_cancellations  previous_bookings_not_canceled  \\\n",
       "count           119390.000000                   119390.000000   \n",
       "mean                 0.087118                        0.137097   \n",
       "std                  0.844336                        1.497437   \n",
       "min                  0.000000                        0.000000   \n",
       "25%                  0.000000                        0.000000   \n",
       "50%                  0.000000                        0.000000   \n",
       "75%                  0.000000                        0.000000   \n",
       "max                 26.000000                       72.000000   \n",
       "\n",
       "       booking_changes          agent      company  days_in_waiting_list  \\\n",
       "count    119390.000000  103050.000000  6797.000000         119390.000000   \n",
       "mean          0.221124      86.693382   189.266735              2.321149   \n",
       "std           0.652306     110.774548   131.655015             17.594721   \n",
       "min           0.000000       1.000000     6.000000              0.000000   \n",
       "25%           0.000000       9.000000    62.000000              0.000000   \n",
       "50%           0.000000      14.000000   179.000000              0.000000   \n",
       "75%           0.000000     229.000000   270.000000              0.000000   \n",
       "max          21.000000     535.000000   543.000000            391.000000   \n",
       "\n",
       "                 adr  required_car_parking_spaces  total_of_special_requests  \n",
       "count  119390.000000                119390.000000              119390.000000  \n",
       "mean      101.831122                     0.062518                   0.571363  \n",
       "std        50.535790                     0.245291                   0.792798  \n",
       "min        -6.380000                     0.000000                   0.000000  \n",
       "25%        69.290000                     0.000000                   0.000000  \n",
       "50%        94.575000                     0.000000                   0.000000  \n",
       "75%       126.000000                     0.000000                   1.000000  \n",
       "max      5400.000000                     8.000000                   5.000000  "
      ]
     },
     "execution_count": 7,
     "metadata": {},
     "output_type": "execute_result"
    }
   ],
   "source": [
    "df.describe()"
   ]
  },
  {
   "cell_type": "code",
   "execution_count": 8,
   "metadata": {},
   "outputs": [
    {
     "data": {
      "text/html": [
       "<div>\n",
       "<style scoped>\n",
       "    .dataframe tbody tr th:only-of-type {\n",
       "        vertical-align: middle;\n",
       "    }\n",
       "\n",
       "    .dataframe tbody tr th {\n",
       "        vertical-align: top;\n",
       "    }\n",
       "\n",
       "    .dataframe thead th {\n",
       "        text-align: right;\n",
       "    }\n",
       "</style>\n",
       "<table border=\"1\" class=\"dataframe\">\n",
       "  <thead>\n",
       "    <tr style=\"text-align: right;\">\n",
       "      <th></th>\n",
       "      <th>hotel</th>\n",
       "      <th>arrival_date_month</th>\n",
       "      <th>meal</th>\n",
       "      <th>country</th>\n",
       "      <th>market_segment</th>\n",
       "      <th>distribution_channel</th>\n",
       "      <th>reserved_room_type</th>\n",
       "      <th>assigned_room_type</th>\n",
       "      <th>deposit_type</th>\n",
       "      <th>customer_type</th>\n",
       "      <th>reservation_status</th>\n",
       "      <th>reservation_status_date</th>\n",
       "    </tr>\n",
       "  </thead>\n",
       "  <tbody>\n",
       "    <tr>\n",
       "      <th>count</th>\n",
       "      <td>119390</td>\n",
       "      <td>119390</td>\n",
       "      <td>119390</td>\n",
       "      <td>118902</td>\n",
       "      <td>119390</td>\n",
       "      <td>119390</td>\n",
       "      <td>119390</td>\n",
       "      <td>119390</td>\n",
       "      <td>119390</td>\n",
       "      <td>119390</td>\n",
       "      <td>119390</td>\n",
       "      <td>119390</td>\n",
       "    </tr>\n",
       "    <tr>\n",
       "      <th>unique</th>\n",
       "      <td>2</td>\n",
       "      <td>12</td>\n",
       "      <td>5</td>\n",
       "      <td>177</td>\n",
       "      <td>8</td>\n",
       "      <td>5</td>\n",
       "      <td>10</td>\n",
       "      <td>12</td>\n",
       "      <td>3</td>\n",
       "      <td>4</td>\n",
       "      <td>3</td>\n",
       "      <td>926</td>\n",
       "    </tr>\n",
       "    <tr>\n",
       "      <th>top</th>\n",
       "      <td>City Hotel</td>\n",
       "      <td>August</td>\n",
       "      <td>BB</td>\n",
       "      <td>PRT</td>\n",
       "      <td>Online TA</td>\n",
       "      <td>TA/TO</td>\n",
       "      <td>A</td>\n",
       "      <td>A</td>\n",
       "      <td>No Deposit</td>\n",
       "      <td>Transient</td>\n",
       "      <td>Check-Out</td>\n",
       "      <td>2015-10-21</td>\n",
       "    </tr>\n",
       "    <tr>\n",
       "      <th>freq</th>\n",
       "      <td>79330</td>\n",
       "      <td>13877</td>\n",
       "      <td>92310</td>\n",
       "      <td>48590</td>\n",
       "      <td>56477</td>\n",
       "      <td>97870</td>\n",
       "      <td>85994</td>\n",
       "      <td>74053</td>\n",
       "      <td>104641</td>\n",
       "      <td>89613</td>\n",
       "      <td>75166</td>\n",
       "      <td>1461</td>\n",
       "    </tr>\n",
       "  </tbody>\n",
       "</table>\n",
       "</div>"
      ],
      "text/plain": [
       "             hotel arrival_date_month    meal country market_segment  \\\n",
       "count       119390             119390  119390  118902         119390   \n",
       "unique           2                 12       5     177              8   \n",
       "top     City Hotel             August      BB     PRT      Online TA   \n",
       "freq         79330              13877   92310   48590          56477   \n",
       "\n",
       "       distribution_channel reserved_room_type assigned_room_type  \\\n",
       "count                119390             119390             119390   \n",
       "unique                    5                 10                 12   \n",
       "top                   TA/TO                  A                  A   \n",
       "freq                  97870              85994              74053   \n",
       "\n",
       "       deposit_type customer_type reservation_status reservation_status_date  \n",
       "count        119390        119390             119390                  119390  \n",
       "unique            3             4                  3                     926  \n",
       "top      No Deposit     Transient          Check-Out              2015-10-21  \n",
       "freq         104641         89613              75166                    1461  "
      ]
     },
     "execution_count": 8,
     "metadata": {},
     "output_type": "execute_result"
    }
   ],
   "source": [
    "df.describe(exclude='number')"
   ]
  },
  {
   "cell_type": "code",
   "execution_count": 9,
   "metadata": {},
   "outputs": [
    {
     "data": {
      "text/plain": [
       "hotel                                  0\n",
       "is_canceled                            0\n",
       "lead_time                              0\n",
       "arrival_date_year                      0\n",
       "arrival_date_month                     0\n",
       "arrival_date_week_number               0\n",
       "arrival_date_day_of_month              0\n",
       "stays_in_weekend_nights                0\n",
       "stays_in_week_nights                   0\n",
       "adults                                 0\n",
       "children                               4\n",
       "babies                                 0\n",
       "meal                                   0\n",
       "country                              488\n",
       "market_segment                         0\n",
       "distribution_channel                   0\n",
       "is_repeated_guest                      0\n",
       "previous_cancellations                 0\n",
       "previous_bookings_not_canceled         0\n",
       "reserved_room_type                     0\n",
       "assigned_room_type                     0\n",
       "booking_changes                        0\n",
       "deposit_type                           0\n",
       "agent                              16340\n",
       "company                           112593\n",
       "days_in_waiting_list                   0\n",
       "customer_type                          0\n",
       "adr                                    0\n",
       "required_car_parking_spaces            0\n",
       "total_of_special_requests              0\n",
       "reservation_status                     0\n",
       "reservation_status_date                0\n",
       "dtype: int64"
      ]
     },
     "execution_count": 9,
     "metadata": {},
     "output_type": "execute_result"
    }
   ],
   "source": [
    "df.isnull().sum()"
   ]
  },
  {
   "cell_type": "code",
   "execution_count": null,
   "metadata": {},
   "outputs": [],
   "source": []
  },
  {
   "cell_type": "code",
   "execution_count": 10,
   "metadata": {},
   "outputs": [
    {
     "name": "stdout",
     "output_type": "stream",
     "text": [
      "<class 'pandas.core.frame.DataFrame'>\n",
      "RangeIndex: 119390 entries, 0 to 119389\n",
      "Data columns (total 32 columns):\n",
      " #   Column                          Non-Null Count   Dtype  \n",
      "---  ------                          --------------   -----  \n",
      " 0   hotel                           119390 non-null  object \n",
      " 1   is_canceled                     119390 non-null  int64  \n",
      " 2   lead_time                       119390 non-null  int64  \n",
      " 3   arrival_date_year               119390 non-null  int64  \n",
      " 4   arrival_date_month              119390 non-null  object \n",
      " 5   arrival_date_week_number        119390 non-null  int64  \n",
      " 6   arrival_date_day_of_month       119390 non-null  int64  \n",
      " 7   stays_in_weekend_nights         119390 non-null  int64  \n",
      " 8   stays_in_week_nights            119390 non-null  int64  \n",
      " 9   adults                          119390 non-null  int64  \n",
      " 10  children                        119386 non-null  float64\n",
      " 11  babies                          119390 non-null  int64  \n",
      " 12  meal                            119390 non-null  object \n",
      " 13  country                         118902 non-null  object \n",
      " 14  market_segment                  119390 non-null  object \n",
      " 15  distribution_channel            119390 non-null  object \n",
      " 16  is_repeated_guest               119390 non-null  int64  \n",
      " 17  previous_cancellations          119390 non-null  int64  \n",
      " 18  previous_bookings_not_canceled  119390 non-null  int64  \n",
      " 19  reserved_room_type              119390 non-null  object \n",
      " 20  assigned_room_type              119390 non-null  object \n",
      " 21  booking_changes                 119390 non-null  int64  \n",
      " 22  deposit_type                    119390 non-null  object \n",
      " 23  agent                           103050 non-null  float64\n",
      " 24  company                         6797 non-null    float64\n",
      " 25  days_in_waiting_list            119390 non-null  int64  \n",
      " 26  customer_type                   119390 non-null  object \n",
      " 27  adr                             119390 non-null  float64\n",
      " 28  required_car_parking_spaces     119390 non-null  int64  \n",
      " 29  total_of_special_requests       119390 non-null  int64  \n",
      " 30  reservation_status              119390 non-null  object \n",
      " 31  reservation_status_date         119390 non-null  object \n",
      "dtypes: float64(4), int64(16), object(12)\n",
      "memory usage: 29.1+ MB\n"
     ]
    }
   ],
   "source": [
    "df.info()"
   ]
  },
  {
   "cell_type": "code",
   "execution_count": null,
   "metadata": {},
   "outputs": [],
   "source": []
  },
  {
   "cell_type": "markdown",
   "metadata": {},
   "source": [
    "## WRANGLE DATA"
   ]
  },
  {
   "cell_type": "code",
   "execution_count": 11,
   "metadata": {},
   "outputs": [],
   "source": [
    "def wrangle(df):\n",
    "    \"\"\" This function filters and cleans dataframe\"\"\"\n",
    "    df = df.copy()\n",
    "    #drop columns that seem to have little impact on target\n",
    "    #roomstypes are anonymous codes, so don't add valuable info\n",
    "\n",
    "    df = df.drop(['company', 'agent',\n",
    "                  'arrival_date_week_number',\n",
    "                  'reserved_room_type','assigned_room_type',\n",
    "                  'market_segment','distribution_channel']\n",
    "                         ,axis = 1)\n",
    "    df = df.dropna(axis=0)  \n",
    "    \n",
    "    #set date column to index\n",
    "    #doesn't add any substantial info, and has high cardinality. \n",
    "    df.set_index(pd.to_datetime(df['reservation_status_date']), inplace = True)\n",
    "    df = df.drop(['reservation_status_date'], axis=1)\n",
    "    \n",
    "    \n",
    "    #replace No-Show status as Canceled\n",
    "    df['reservation_status'] =  df['reservation_status'].replace({'No-Show':'Canceled'})\n",
    "    return df\n",
    "df = wrangle(df)\n"
   ]
  },
  {
   "cell_type": "markdown",
   "metadata": {},
   "source": [
    "## TRAIN, VALIDATE, TEST SPLIT"
   ]
  },
  {
   "cell_type": "code",
   "execution_count": 12,
   "metadata": {},
   "outputs": [
    {
     "data": {
      "text/plain": [
       "((21859, 24), (56435, 24), (40604, 24))"
      ]
     },
     "execution_count": 12,
     "metadata": {},
     "output_type": "execute_result"
    }
   ],
   "source": [
    "#get train, validate,and test subsets\n",
    "train = df[df['arrival_date_year']==2015].copy()\n",
    "val = df[df['arrival_date_year']==2016].copy()\n",
    "test = df[df['arrival_date_year'] == 2017].copy()\n",
    "train.shape, val.shape, test.shape"
   ]
  },
  {
   "cell_type": "code",
   "execution_count": 13,
   "metadata": {},
   "outputs": [
    {
     "data": {
      "text/html": [
       "<div>\n",
       "<style scoped>\n",
       "    .dataframe tbody tr th:only-of-type {\n",
       "        vertical-align: middle;\n",
       "    }\n",
       "\n",
       "    .dataframe tbody tr th {\n",
       "        vertical-align: top;\n",
       "    }\n",
       "\n",
       "    .dataframe thead th {\n",
       "        text-align: right;\n",
       "    }\n",
       "</style>\n",
       "<table border=\"1\" class=\"dataframe\">\n",
       "  <thead>\n",
       "    <tr style=\"text-align: right;\">\n",
       "      <th></th>\n",
       "      <th>is_canceled</th>\n",
       "      <th>lead_time</th>\n",
       "      <th>arrival_date_year</th>\n",
       "      <th>arrival_date_day_of_month</th>\n",
       "      <th>stays_in_weekend_nights</th>\n",
       "      <th>stays_in_week_nights</th>\n",
       "      <th>adults</th>\n",
       "      <th>children</th>\n",
       "      <th>babies</th>\n",
       "      <th>is_repeated_guest</th>\n",
       "      <th>previous_cancellations</th>\n",
       "      <th>previous_bookings_not_canceled</th>\n",
       "      <th>booking_changes</th>\n",
       "      <th>days_in_waiting_list</th>\n",
       "      <th>adr</th>\n",
       "      <th>required_car_parking_spaces</th>\n",
       "      <th>total_of_special_requests</th>\n",
       "    </tr>\n",
       "  </thead>\n",
       "  <tbody>\n",
       "    <tr>\n",
       "      <th>count</th>\n",
       "      <td>21859.000000</td>\n",
       "      <td>21859.000000</td>\n",
       "      <td>21859.0</td>\n",
       "      <td>21859.000000</td>\n",
       "      <td>21859.000000</td>\n",
       "      <td>21859.000000</td>\n",
       "      <td>21859.000000</td>\n",
       "      <td>21859.000000</td>\n",
       "      <td>21859.000000</td>\n",
       "      <td>21859.000000</td>\n",
       "      <td>21859.000000</td>\n",
       "      <td>21859.000000</td>\n",
       "      <td>21859.000000</td>\n",
       "      <td>21859.000000</td>\n",
       "      <td>21859.000000</td>\n",
       "      <td>21859.000000</td>\n",
       "      <td>21859.000000</td>\n",
       "    </tr>\n",
       "    <tr>\n",
       "      <th>mean</th>\n",
       "      <td>0.370831</td>\n",
       "      <td>97.441237</td>\n",
       "      <td>2015.0</td>\n",
       "      <td>15.666865</td>\n",
       "      <td>0.930372</td>\n",
       "      <td>2.459262</td>\n",
       "      <td>1.832152</td>\n",
       "      <td>0.061897</td>\n",
       "      <td>0.010156</td>\n",
       "      <td>0.029324</td>\n",
       "      <td>0.337481</td>\n",
       "      <td>0.027083</td>\n",
       "      <td>0.177273</td>\n",
       "      <td>2.294067</td>\n",
       "      <td>87.294361</td>\n",
       "      <td>0.060524</td>\n",
       "      <td>0.434741</td>\n",
       "    </tr>\n",
       "    <tr>\n",
       "      <th>std</th>\n",
       "      <td>0.483038</td>\n",
       "      <td>105.152622</td>\n",
       "      <td>0.0</td>\n",
       "      <td>8.748329</td>\n",
       "      <td>0.998719</td>\n",
       "      <td>1.871800</td>\n",
       "      <td>0.852493</td>\n",
       "      <td>0.320214</td>\n",
       "      <td>0.116320</td>\n",
       "      <td>0.168718</td>\n",
       "      <td>1.828439</td>\n",
       "      <td>0.350154</td>\n",
       "      <td>0.545491</td>\n",
       "      <td>13.118124</td>\n",
       "      <td>42.720076</td>\n",
       "      <td>0.239227</td>\n",
       "      <td>0.742352</td>\n",
       "    </tr>\n",
       "    <tr>\n",
       "      <th>min</th>\n",
       "      <td>0.000000</td>\n",
       "      <td>0.000000</td>\n",
       "      <td>2015.0</td>\n",
       "      <td>1.000000</td>\n",
       "      <td>0.000000</td>\n",
       "      <td>0.000000</td>\n",
       "      <td>0.000000</td>\n",
       "      <td>0.000000</td>\n",
       "      <td>0.000000</td>\n",
       "      <td>0.000000</td>\n",
       "      <td>0.000000</td>\n",
       "      <td>0.000000</td>\n",
       "      <td>0.000000</td>\n",
       "      <td>0.000000</td>\n",
       "      <td>0.000000</td>\n",
       "      <td>0.000000</td>\n",
       "      <td>0.000000</td>\n",
       "    </tr>\n",
       "    <tr>\n",
       "      <th>25%</th>\n",
       "      <td>0.000000</td>\n",
       "      <td>14.000000</td>\n",
       "      <td>2015.0</td>\n",
       "      <td>8.000000</td>\n",
       "      <td>0.000000</td>\n",
       "      <td>1.000000</td>\n",
       "      <td>2.000000</td>\n",
       "      <td>0.000000</td>\n",
       "      <td>0.000000</td>\n",
       "      <td>0.000000</td>\n",
       "      <td>0.000000</td>\n",
       "      <td>0.000000</td>\n",
       "      <td>0.000000</td>\n",
       "      <td>0.000000</td>\n",
       "      <td>62.000000</td>\n",
       "      <td>0.000000</td>\n",
       "      <td>0.000000</td>\n",
       "    </tr>\n",
       "    <tr>\n",
       "      <th>50%</th>\n",
       "      <td>0.000000</td>\n",
       "      <td>57.000000</td>\n",
       "      <td>2015.0</td>\n",
       "      <td>16.000000</td>\n",
       "      <td>1.000000</td>\n",
       "      <td>2.000000</td>\n",
       "      <td>2.000000</td>\n",
       "      <td>0.000000</td>\n",
       "      <td>0.000000</td>\n",
       "      <td>0.000000</td>\n",
       "      <td>0.000000</td>\n",
       "      <td>0.000000</td>\n",
       "      <td>0.000000</td>\n",
       "      <td>0.000000</td>\n",
       "      <td>78.000000</td>\n",
       "      <td>0.000000</td>\n",
       "      <td>0.000000</td>\n",
       "    </tr>\n",
       "    <tr>\n",
       "      <th>75%</th>\n",
       "      <td>1.000000</td>\n",
       "      <td>146.000000</td>\n",
       "      <td>2015.0</td>\n",
       "      <td>23.000000</td>\n",
       "      <td>2.000000</td>\n",
       "      <td>3.000000</td>\n",
       "      <td>2.000000</td>\n",
       "      <td>0.000000</td>\n",
       "      <td>0.000000</td>\n",
       "      <td>0.000000</td>\n",
       "      <td>0.000000</td>\n",
       "      <td>0.000000</td>\n",
       "      <td>0.000000</td>\n",
       "      <td>0.000000</td>\n",
       "      <td>108.000000</td>\n",
       "      <td>0.000000</td>\n",
       "      <td>1.000000</td>\n",
       "    </tr>\n",
       "    <tr>\n",
       "      <th>max</th>\n",
       "      <td>1.000000</td>\n",
       "      <td>737.000000</td>\n",
       "      <td>2015.0</td>\n",
       "      <td>31.000000</td>\n",
       "      <td>13.000000</td>\n",
       "      <td>33.000000</td>\n",
       "      <td>55.000000</td>\n",
       "      <td>10.000000</td>\n",
       "      <td>9.000000</td>\n",
       "      <td>1.000000</td>\n",
       "      <td>26.000000</td>\n",
       "      <td>14.000000</td>\n",
       "      <td>20.000000</td>\n",
       "      <td>122.000000</td>\n",
       "      <td>508.000000</td>\n",
       "      <td>2.000000</td>\n",
       "      <td>5.000000</td>\n",
       "    </tr>\n",
       "  </tbody>\n",
       "</table>\n",
       "</div>"
      ],
      "text/plain": [
       "        is_canceled     lead_time  arrival_date_year  \\\n",
       "count  21859.000000  21859.000000            21859.0   \n",
       "mean       0.370831     97.441237             2015.0   \n",
       "std        0.483038    105.152622                0.0   \n",
       "min        0.000000      0.000000             2015.0   \n",
       "25%        0.000000     14.000000             2015.0   \n",
       "50%        0.000000     57.000000             2015.0   \n",
       "75%        1.000000    146.000000             2015.0   \n",
       "max        1.000000    737.000000             2015.0   \n",
       "\n",
       "       arrival_date_day_of_month  stays_in_weekend_nights  \\\n",
       "count               21859.000000             21859.000000   \n",
       "mean                   15.666865                 0.930372   \n",
       "std                     8.748329                 0.998719   \n",
       "min                     1.000000                 0.000000   \n",
       "25%                     8.000000                 0.000000   \n",
       "50%                    16.000000                 1.000000   \n",
       "75%                    23.000000                 2.000000   \n",
       "max                    31.000000                13.000000   \n",
       "\n",
       "       stays_in_week_nights        adults      children        babies  \\\n",
       "count          21859.000000  21859.000000  21859.000000  21859.000000   \n",
       "mean               2.459262      1.832152      0.061897      0.010156   \n",
       "std                1.871800      0.852493      0.320214      0.116320   \n",
       "min                0.000000      0.000000      0.000000      0.000000   \n",
       "25%                1.000000      2.000000      0.000000      0.000000   \n",
       "50%                2.000000      2.000000      0.000000      0.000000   \n",
       "75%                3.000000      2.000000      0.000000      0.000000   \n",
       "max               33.000000     55.000000     10.000000      9.000000   \n",
       "\n",
       "       is_repeated_guest  previous_cancellations  \\\n",
       "count       21859.000000            21859.000000   \n",
       "mean            0.029324                0.337481   \n",
       "std             0.168718                1.828439   \n",
       "min             0.000000                0.000000   \n",
       "25%             0.000000                0.000000   \n",
       "50%             0.000000                0.000000   \n",
       "75%             0.000000                0.000000   \n",
       "max             1.000000               26.000000   \n",
       "\n",
       "       previous_bookings_not_canceled  booking_changes  days_in_waiting_list  \\\n",
       "count                    21859.000000     21859.000000          21859.000000   \n",
       "mean                         0.027083         0.177273              2.294067   \n",
       "std                          0.350154         0.545491             13.118124   \n",
       "min                          0.000000         0.000000              0.000000   \n",
       "25%                          0.000000         0.000000              0.000000   \n",
       "50%                          0.000000         0.000000              0.000000   \n",
       "75%                          0.000000         0.000000              0.000000   \n",
       "max                         14.000000        20.000000            122.000000   \n",
       "\n",
       "                adr  required_car_parking_spaces  total_of_special_requests  \n",
       "count  21859.000000                 21859.000000               21859.000000  \n",
       "mean      87.294361                     0.060524                   0.434741  \n",
       "std       42.720076                     0.239227                   0.742352  \n",
       "min        0.000000                     0.000000                   0.000000  \n",
       "25%       62.000000                     0.000000                   0.000000  \n",
       "50%       78.000000                     0.000000                   0.000000  \n",
       "75%      108.000000                     0.000000                   1.000000  \n",
       "max      508.000000                     2.000000                   5.000000  "
      ]
     },
     "execution_count": 13,
     "metadata": {},
     "output_type": "execute_result"
    }
   ],
   "source": [
    "train.describe()"
   ]
  },
  {
   "cell_type": "code",
   "execution_count": 14,
   "metadata": {},
   "outputs": [
    {
     "data": {
      "text/html": [
       "<div>\n",
       "<style scoped>\n",
       "    .dataframe tbody tr th:only-of-type {\n",
       "        vertical-align: middle;\n",
       "    }\n",
       "\n",
       "    .dataframe tbody tr th {\n",
       "        vertical-align: top;\n",
       "    }\n",
       "\n",
       "    .dataframe thead th {\n",
       "        text-align: right;\n",
       "    }\n",
       "</style>\n",
       "<table border=\"1\" class=\"dataframe\">\n",
       "  <thead>\n",
       "    <tr style=\"text-align: right;\">\n",
       "      <th></th>\n",
       "      <th>hotel</th>\n",
       "      <th>arrival_date_month</th>\n",
       "      <th>meal</th>\n",
       "      <th>country</th>\n",
       "      <th>deposit_type</th>\n",
       "      <th>customer_type</th>\n",
       "      <th>reservation_status</th>\n",
       "    </tr>\n",
       "  </thead>\n",
       "  <tbody>\n",
       "    <tr>\n",
       "      <th>count</th>\n",
       "      <td>21859</td>\n",
       "      <td>21859</td>\n",
       "      <td>21859</td>\n",
       "      <td>21859</td>\n",
       "      <td>21859</td>\n",
       "      <td>21859</td>\n",
       "      <td>21859</td>\n",
       "    </tr>\n",
       "    <tr>\n",
       "      <th>unique</th>\n",
       "      <td>2</td>\n",
       "      <td>6</td>\n",
       "      <td>5</td>\n",
       "      <td>98</td>\n",
       "      <td>3</td>\n",
       "      <td>4</td>\n",
       "      <td>2</td>\n",
       "    </tr>\n",
       "    <tr>\n",
       "      <th>top</th>\n",
       "      <td>City Hotel</td>\n",
       "      <td>September</td>\n",
       "      <td>BB</td>\n",
       "      <td>PRT</td>\n",
       "      <td>No Deposit</td>\n",
       "      <td>Transient</td>\n",
       "      <td>Check-Out</td>\n",
       "    </tr>\n",
       "    <tr>\n",
       "      <th>freq</th>\n",
       "      <td>13663</td>\n",
       "      <td>5084</td>\n",
       "      <td>17106</td>\n",
       "      <td>13303</td>\n",
       "      <td>18202</td>\n",
       "      <td>11319</td>\n",
       "      <td>13753</td>\n",
       "    </tr>\n",
       "  </tbody>\n",
       "</table>\n",
       "</div>"
      ],
      "text/plain": [
       "             hotel arrival_date_month   meal country deposit_type  \\\n",
       "count        21859              21859  21859   21859        21859   \n",
       "unique           2                  6      5      98            3   \n",
       "top     City Hotel          September     BB     PRT   No Deposit   \n",
       "freq         13663               5084  17106   13303        18202   \n",
       "\n",
       "       customer_type reservation_status  \n",
       "count          21859              21859  \n",
       "unique             4                  2  \n",
       "top        Transient          Check-Out  \n",
       "freq           11319              13753  "
      ]
     },
     "execution_count": 14,
     "metadata": {},
     "output_type": "execute_result"
    }
   ],
   "source": [
    "train.describe(exclude='number')"
   ]
  },
  {
   "cell_type": "code",
   "execution_count": 15,
   "metadata": {},
   "outputs": [
    {
     "data": {
      "text/plain": [
       "No Deposit    0.832700\n",
       "Non Refund    0.167117\n",
       "Refundable    0.000183\n",
       "Name: deposit_type, dtype: float64"
      ]
     },
     "execution_count": 15,
     "metadata": {},
     "output_type": "execute_result"
    }
   ],
   "source": [
    "train['deposit_type'].value_counts(normalize=True)"
   ]
  },
  {
   "cell_type": "code",
   "execution_count": 16,
   "metadata": {},
   "outputs": [
    {
     "data": {
      "text/plain": [
       "Canceled     0.997536\n",
       "Check-Out    0.002464\n",
       "Name: reservation_status, dtype: float64"
      ]
     },
     "execution_count": 16,
     "metadata": {},
     "output_type": "execute_result"
    }
   ],
   "source": [
    "train[train['deposit_type']=='Non Refund']['reservation_status'].value_counts(normalize=True)"
   ]
  },
  {
   "cell_type": "code",
   "execution_count": 17,
   "metadata": {},
   "outputs": [
    {
     "data": {
      "text/plain": [
       "Check-Out    0.754862\n",
       "Canceled     0.245138\n",
       "Name: reservation_status, dtype: float64"
      ]
     },
     "execution_count": 17,
     "metadata": {},
     "output_type": "execute_result"
    }
   ],
   "source": [
    "train[train['deposit_type']=='No Deposit']['reservation_status'].value_counts(normalize=True)"
   ]
  },
  {
   "cell_type": "code",
   "execution_count": 18,
   "metadata": {},
   "outputs": [
    {
     "data": {
      "text/plain": [
       "No Deposit    0.877292\n",
       "Non Refund    0.120386\n",
       "Refundable    0.002321\n",
       "Name: deposit_type, dtype: float64"
      ]
     },
     "execution_count": 18,
     "metadata": {},
     "output_type": "execute_result"
    }
   ],
   "source": [
    "val['deposit_type'].value_counts(normalize=True)"
   ]
  },
  {
   "cell_type": "code",
   "execution_count": 19,
   "metadata": {},
   "outputs": [
    {
     "data": {
      "text/plain": [
       "Canceled     0.988814\n",
       "Check-Out    0.011186\n",
       "Name: reservation_status, dtype: float64"
      ]
     },
     "execution_count": 19,
     "metadata": {},
     "output_type": "execute_result"
    }
   ],
   "source": [
    "val[val['deposit_type']=='Non Refund']['reservation_status'].value_counts(normalize=True)"
   ]
  },
  {
   "cell_type": "code",
   "execution_count": 20,
   "metadata": {},
   "outputs": [
    {
     "data": {
      "text/plain": [
       "Check-Out    0.754862\n",
       "Canceled     0.245138\n",
       "Name: reservation_status, dtype: float64"
      ]
     },
     "execution_count": 20,
     "metadata": {},
     "output_type": "execute_result"
    }
   ],
   "source": [
    "train[train['deposit_type']=='No Deposit']['reservation_status'].value_counts(normalize=True)"
   ]
  },
  {
   "cell_type": "code",
   "execution_count": 21,
   "metadata": {},
   "outputs": [],
   "source": [
    "#feature selection\n",
    "# is_canceled is also a target vector, reveals reservation_status implicitly ... is leaking information of target\n",
    "def features_select(df):    \n",
    "    target = 'reservation_status'\n",
    "    #creating subsets of features, splitted between numerical and categorical\n",
    "    train_features =  df.drop(columns = [target, 'is_canceled'],axis =1)\n",
    "    numeric_features = train_features.select_dtypes(include='number').columns.tolist()\n",
    "    cardinality = train_features.select_dtypes(exclude = 'number').nunique()\n",
    "    categorical_features = cardinality.index.tolist()\n",
    "    #combine lists to extrapolate features of interest\n",
    "    features = numeric_features + categorical_features\n",
    "    return features\n",
    "features = features_select(df)\n",
    "\n",
    "\n",
    "#These columns to be the most important ones, so I will do some feature engineering to see if i can improve my score"
   ]
  },
  {
   "cell_type": "code",
   "execution_count": 22,
   "metadata": {},
   "outputs": [
    {
     "data": {
      "text/plain": [
       "((21859, 22), (21859,), (56435, 22), (56435,))"
      ]
     },
     "execution_count": 22,
     "metadata": {},
     "output_type": "execute_result"
    }
   ],
   "source": [
    "#seperating X matrices and correspind y vectors\n",
    "target = 'reservation_status'\n",
    "X_train = train[features]\n",
    "y_train = train[target]\n",
    "X_test = test[features]\n",
    "y_test = test[target]\n",
    "X_val= val[features]\n",
    "y_val = val[target]\n",
    "X_train.shape,y_train.shape,X_val.shape, y_val.shape"
   ]
  },
  {
   "cell_type": "markdown",
   "metadata": {},
   "source": [
    "## BASELINE"
   ]
  },
  {
   "cell_type": "code",
   "execution_count": 23,
   "metadata": {},
   "outputs": [
    {
     "data": {
      "text/plain": [
       "Check-Out    0.629169\n",
       "Canceled     0.370831\n",
       "Name: reservation_status, dtype: float64"
      ]
     },
     "execution_count": 23,
     "metadata": {},
     "output_type": "execute_result"
    }
   ],
   "source": [
    "#baselines\n",
    "y_train.value_counts(normalize=True)\n"
   ]
  },
  {
   "cell_type": "markdown",
   "metadata": {},
   "source": [
    "##Permuation Importance"
   ]
  },
  {
   "cell_type": "code",
   "execution_count": 24,
   "metadata": {},
   "outputs": [
    {
     "data": {
      "text/plain": [
       "Check-Out    0.640064\n",
       "Canceled     0.359936\n",
       "Name: reservation_status, dtype: float64"
      ]
     },
     "execution_count": 24,
     "metadata": {},
     "output_type": "execute_result"
    }
   ],
   "source": [
    "y_val.value_counts(normalize=True)\n"
   ]
  },
  {
   "cell_type": "markdown",
   "metadata": {},
   "source": [
    "Build Model"
   ]
  },
  {
   "cell_type": "code",
   "execution_count": 25,
   "metadata": {},
   "outputs": [],
   "source": [
    "#instantitate classes\n",
    "\n",
    "from sklearn.ensemble import RandomForestClassifier\n",
    "import category_encoders as ce\n",
    "import numpy as np\n",
    "from sklearn.impute import SimpleImputer\n",
    "from sklearn.ensemble import RandomForestClassifier\n",
    "from category_encoders import OneHotEncoder, OrdinalEncoder\n",
    "from sklearn.pipeline import make_pipeline\n",
    "from sklearn.model_selection import RandomizedSearchCV\n",
    "from sklearn.linear_model import LogisticRegression"
   ]
  },
  {
   "cell_type": "markdown",
   "metadata": {},
   "source": [
    "## Model0- Random Tree Forest Classifier"
   ]
  },
  {
   "cell_type": "code",
   "execution_count": 26,
   "metadata": {},
   "outputs": [
    {
     "name": "stdout",
     "output_type": "stream",
     "text": [
      "Fitting 10 folds for each of 10 candidates, totalling 100 fits\n"
     ]
    },
    {
     "name": "stderr",
     "output_type": "stream",
     "text": [
      "[Parallel(n_jobs=-1)]: Using backend LokyBackend with 8 concurrent workers.\n",
      "[Parallel(n_jobs=-1)]: Done  34 tasks      | elapsed:   21.1s\n",
      "[Parallel(n_jobs=-1)]: Done 100 out of 100 | elapsed:   56.5s finished\n"
     ]
    },
    {
     "name": "stdout",
     "output_type": "stream",
     "text": [
      "Cross-validation Best Score 0.8175634838717782\n",
      "Best Estimator: {'randomforestclassifier__n_estimators': 100, 'randomforestclassifier__min_samples_split': 15, 'randomforestclassifier__min_samples_leaf': 2, 'randomforestclassifier__max_features': 5, 'randomforestclassifier__criterion': 'entropy'}\n",
      "Best Model Pipeline(steps=[('ordinalencoder',\n",
      "                 OrdinalEncoder(cols=['hotel', 'arrival_date_month', 'meal',\n",
      "                                      'country', 'deposit_type',\n",
      "                                      'customer_type'],\n",
      "                                mapping=[{'col': 'hotel',\n",
      "                                          'data_type': dtype('O'),\n",
      "                                          'mapping': Resort Hotel    1\n",
      "City Hotel      2\n",
      "NaN            -2\n",
      "dtype: int64},\n",
      "                                         {'col': 'arrival_date_month',\n",
      "                                          'data_type': dtype('O'),\n",
      "                                          'mapping': July         1\n",
      "August       2\n",
      "September    3\n",
      "October      4\n",
      "November     5\n",
      "December     6\n",
      "NaN         -2\n",
      "dtype:...\n",
      "                                          'mapping': No Deposit    1\n",
      "Refundable    2\n",
      "Non Refund    3\n",
      "NaN          -2\n",
      "dtype: int64},\n",
      "                                         {'col': 'customer_type',\n",
      "                                          'data_type': dtype('O'),\n",
      "                                          'mapping': Transient          1\n",
      "Contract           2\n",
      "Transient-Party    3\n",
      "Group              4\n",
      "NaN               -2\n",
      "dtype: int64}])),\n",
      "                ('simpleimputer', SimpleImputer()),\n",
      "                ('randomforestclassifier',\n",
      "                 RandomForestClassifier(criterion='entropy', max_features=5,\n",
      "                                        min_samples_leaf=2,\n",
      "                                        min_samples_split=15, n_jobs=-1,\n",
      "                                        random_state=40))])\n"
     ]
    }
   ],
   "source": [
    "#Build pipeline using RadnomSearchCV\n",
    "from sklearn.model_selection import RandomizedSearchCV, GridSearchCV\n",
    "model0 = make_pipeline(\n",
    "    ce.OrdinalEncoder(),\n",
    "    SimpleImputer(strategy='mean'),\n",
    "    RandomForestClassifier(n_jobs = -1, random_state=40)\n",
    "\n",
    ")\n",
    "\n",
    "param_distributions = { \n",
    "    'randomforestclassifier__n_estimators': [100],\n",
    "    'randomforestclassifier__criterion': ['gini', 'entropy'],\n",
    "    'randomforestclassifier__max_features': [5,10,20],\n",
    "    'randomforestclassifier__min_samples_split': [5,10,15,20],\n",
    "    'randomforestclassifier__min_samples_leaf': [2]\n",
    "}\n",
    "search = RandomizedSearchCV(\n",
    "    model0, \n",
    "    param_distributions = param_distributions,\n",
    "    n_iter = 10,\n",
    "    cv=10,\n",
    "    scoring ='accuracy',\n",
    "    verbose = 1,\n",
    "    return_train_score = True,\n",
    "    n_jobs = -1\n",
    ")\n",
    "\n",
    "search.fit(X_train, y_train)\n",
    "print('Cross-validation Best Score', search.best_score_)\n",
    "print('Best Estimator:' ,search.best_params_)\n",
    "print('Best Model', search.best_estimator_)"
   ]
  },
  {
   "cell_type": "code",
   "execution_count": 27,
   "metadata": {},
   "outputs": [
    {
     "data": {
      "text/plain": [
       "Pipeline(steps=[('ordinalencoder',\n",
       "                 OrdinalEncoder(cols=['hotel', 'arrival_date_month', 'meal',\n",
       "                                      'country', 'deposit_type',\n",
       "                                      'customer_type'],\n",
       "                                mapping=[{'col': 'hotel',\n",
       "                                          'data_type': dtype('O'),\n",
       "                                          'mapping': Resort Hotel    1\n",
       "City Hotel      2\n",
       "NaN            -2\n",
       "dtype: int64},\n",
       "                                         {'col': 'arrival_date_month',\n",
       "                                          'data_type': dtype('O'),\n",
       "                                          'mapping': July         1\n",
       "August       2\n",
       "September    3\n",
       "October      4\n",
       "November     5\n",
       "December     6\n",
       "NaN         -2\n",
       "dtype:...\n",
       "                                          'mapping': No Deposit    1\n",
       "Refundable    2\n",
       "Non Refund    3\n",
       "NaN          -2\n",
       "dtype: int64},\n",
       "                                         {'col': 'customer_type',\n",
       "                                          'data_type': dtype('O'),\n",
       "                                          'mapping': Transient          1\n",
       "Contract           2\n",
       "Transient-Party    3\n",
       "Group              4\n",
       "NaN               -2\n",
       "dtype: int64}])),\n",
       "                ('simpleimputer', SimpleImputer()),\n",
       "                ('randomforestclassifier',\n",
       "                 RandomForestClassifier(criterion='entropy', max_features=5,\n",
       "                                        min_samples_leaf=2,\n",
       "                                        min_samples_split=15, n_jobs=-1,\n",
       "                                        random_state=40))])"
      ]
     },
     "execution_count": 27,
     "metadata": {},
     "output_type": "execute_result"
    }
   ],
   "source": [
    "model0 = search.best_estimator_\n",
    "model0"
   ]
  },
  {
   "cell_type": "code",
   "execution_count": 28,
   "metadata": {},
   "outputs": [
    {
     "data": {
      "text/plain": [
       "Pipeline(steps=[('ordinalencoder',\n",
       "                 OrdinalEncoder(cols=['hotel', 'arrival_date_month', 'meal',\n",
       "                                      'country', 'deposit_type',\n",
       "                                      'customer_type'],\n",
       "                                mapping=[{'col': 'hotel',\n",
       "                                          'data_type': dtype('O'),\n",
       "                                          'mapping': Resort Hotel    1\n",
       "City Hotel      2\n",
       "NaN            -2\n",
       "dtype: int64},\n",
       "                                         {'col': 'arrival_date_month',\n",
       "                                          'data_type': dtype('O'),\n",
       "                                          'mapping': July         1\n",
       "August       2\n",
       "September    3\n",
       "October      4\n",
       "November     5\n",
       "December     6\n",
       "NaN         -2\n",
       "dtype:...\n",
       "                                          'mapping': No Deposit    1\n",
       "Refundable    2\n",
       "Non Refund    3\n",
       "NaN          -2\n",
       "dtype: int64},\n",
       "                                         {'col': 'customer_type',\n",
       "                                          'data_type': dtype('O'),\n",
       "                                          'mapping': Transient          1\n",
       "Contract           2\n",
       "Transient-Party    3\n",
       "Group              4\n",
       "NaN               -2\n",
       "dtype: int64}])),\n",
       "                ('simpleimputer', SimpleImputer()),\n",
       "                ('randomforestclassifier',\n",
       "                 RandomForestClassifier(criterion='entropy', max_features=5,\n",
       "                                        min_samples_leaf=2,\n",
       "                                        min_samples_split=15, n_jobs=-1,\n",
       "                                        random_state=40))])"
      ]
     },
     "execution_count": 28,
     "metadata": {},
     "output_type": "execute_result"
    }
   ],
   "source": [
    "model0.fit(X_train,y_train)\n"
   ]
  },
  {
   "cell_type": "markdown",
   "metadata": {},
   "source": [
    "## Evaluation Metrics"
   ]
  },
  {
   "cell_type": "code",
   "execution_count": 29,
   "metadata": {},
   "outputs": [],
   "source": [
    "from sklearn.metrics import plot_confusion_matrix, classification_report\n",
    "from sklearn.metrics import precision_score\n",
    "from sklearn.metrics import recall_score\n",
    "from sklearn.metrics import roc_auc_score\n",
    "from sklearn.metrics import accuracy_score"
   ]
  },
  {
   "cell_type": "code",
   "execution_count": 30,
   "metadata": {},
   "outputs": [
    {
     "data": {
      "text/plain": [
       "<sklearn.metrics._plot.confusion_matrix.ConfusionMatrixDisplay at 0x12d20a7b8>"
      ]
     },
     "execution_count": 30,
     "metadata": {},
     "output_type": "execute_result"
    },
    {
     "data": {
      "image/png": "[encoded data removed]",
      "text/plain": [
       "<Figure size 432x288 with 2 Axes>"
      ]
     },
     "metadata": {
      "needs_background": "light"
     },
     "output_type": "display_data"
    }
   ],
   "source": [
    "plot_confusion_matrix(model0, X_val, y_val, values_format='.0f', xticks_rotation='vertical')"
   ]
  },
  {
   "cell_type": "code",
   "execution_count": 31,
   "metadata": {},
   "outputs": [
    {
     "data": {
      "text/plain": [
       "array(['Canceled', 'Check-Out'], dtype=object)"
      ]
     },
     "execution_count": 31,
     "metadata": {},
     "output_type": "execute_result"
    }
   ],
   "source": [
    "#Helps me identify the order of the class labels in the target\n",
    "model0.classes_ "
   ]
  },
  {
   "cell_type": "code",
   "execution_count": 32,
   "metadata": {},
   "outputs": [],
   "source": [
    "y_pred0 = model0.predict(X_val)\n",
    "y_pred_probab0 = model0.predict_proba(X_val)"
   ]
  },
  {
   "cell_type": "code",
   "execution_count": 33,
   "metadata": {},
   "outputs": [
    {
     "name": "stdout",
     "output_type": "stream",
     "text": [
      "Random Forest Classifier Classification Report\n",
      "              precision    recall  f1-score   support\n",
      "\n",
      "    Canceled       0.88      0.42      0.57     20313\n",
      "   Check-Out       0.75      0.97      0.84     36122\n",
      "\n",
      "    accuracy                           0.77     56435\n",
      "   macro avg       0.82      0.70      0.71     56435\n",
      "weighted avg       0.80      0.77      0.75     56435\n",
      "\n"
     ]
    }
   ],
   "source": [
    "print('Random Forest Classifier Classification Report')\n",
    "print(classification_report(y_val, y_pred0))"
   ]
  },
  {
   "cell_type": "code",
   "execution_count": 34,
   "metadata": {},
   "outputs": [
    {
     "data": {
      "text/plain": [
       "0.772929052063243"
      ]
     },
     "execution_count": 34,
     "metadata": {},
     "output_type": "execute_result"
    }
   ],
   "source": [
    "roc_auc_score(y_val,y_pred_probab0[:,1])"
   ]
  },
  {
   "cell_type": "markdown",
   "metadata": {},
   "source": [
    "## Model1 - XGBOOST w/ Early Stopping"
   ]
  },
  {
   "cell_type": "markdown",
   "metadata": {},
   "source": [
    "Run XGBoost w/ Early Stopping to prevent overfitting and optimize n_estimators."
   ]
  },
  {
   "cell_type": "code",
   "execution_count": 35,
   "metadata": {},
   "outputs": [
    {
     "name": "stdout",
     "output_type": "stream",
     "text": [
      "[0]\tvalidation_0-auc:0.95130\tvalidation_1-auc:0.75458\n",
      "Multiple eval metrics have been passed: 'validation_1-auc' will be used for early stopping.\n",
      "\n",
      "Will train until validation_1-auc hasn't improved in 20 rounds.\n",
      "[1]\tvalidation_0-auc:0.95687\tvalidation_1-auc:0.75635\n",
      "[2]\tvalidation_0-auc:0.96206\tvalidation_1-auc:0.75696\n",
      "[3]\tvalidation_0-auc:0.96507\tvalidation_1-auc:0.75826\n",
      "[4]\tvalidation_0-auc:0.96932\tvalidation_1-auc:0.77263\n",
      "[5]\tvalidation_0-auc:0.97024\tvalidation_1-auc:0.78490\n",
      "[6]\tvalidation_0-auc:0.97156\tvalidation_1-auc:0.78318\n",
      "[7]\tvalidation_0-auc:0.97258\tvalidation_1-auc:0.79024\n",
      "[8]\tvalidation_0-auc:0.97415\tvalidation_1-auc:0.79414\n",
      "[9]\tvalidation_0-auc:0.97530\tvalidation_1-auc:0.80041\n",
      "[10]\tvalidation_0-auc:0.97623\tvalidation_1-auc:0.79701\n",
      "[11]\tvalidation_0-auc:0.97677\tvalidation_1-auc:0.79747\n",
      "[12]\tvalidation_0-auc:0.98003\tvalidation_1-auc:0.79981\n",
      "[13]\tvalidation_0-auc:0.98092\tvalidation_1-auc:0.80225\n",
      "[14]\tvalidation_0-auc:0.98228\tvalidation_1-auc:0.79793\n",
      "[15]\tvalidation_0-auc:0.98243\tvalidation_1-auc:0.80060\n",
      "[16]\tvalidation_0-auc:0.98286\tvalidation_1-auc:0.79745\n",
      "[17]\tvalidation_0-auc:0.98360\tvalidation_1-auc:0.79490\n",
      "[18]\tvalidation_0-auc:0.98380\tvalidation_1-auc:0.79816\n",
      "[19]\tvalidation_0-auc:0.98476\tvalidation_1-auc:0.79462\n"
     ]
    },
    {
     "data": {
      "text/plain": [
       "XGBClassifier(base_score=0.5, booster='gbtree', colsample_bylevel=1,\n",
       "              colsample_bynode=1, colsample_bytree=1, gamma=0, gpu_id=-1,\n",
       "              importance_type='gain', interaction_constraints='',\n",
       "              learning_rate=0.5, max_delta_step=0, max_depth=5,\n",
       "              min_child_weight=1, missing=nan, monotone_constraints='()',\n",
       "              n_estimators=20, n_jobs=-1, num_parallel_tree=1, random_state=0,\n",
       "              reg_alpha=0, reg_lambda=1, scale_pos_weight=1, subsample=1,\n",
       "              tree_method='exact', validate_parameters=1, verbosity=None)"
      ]
     },
     "execution_count": 35,
     "metadata": {},
     "output_type": "execute_result"
    }
   ],
   "source": [
    "from xgboost.sklearn import XGBClassifier\n",
    "encoder = ce.OrdinalEncoder()\n",
    "X_train_encoded = encoder.fit_transform(X_train)\n",
    "X_val_encoded = encoder.transform(X_val)\n",
    "X_test_encoded = encoder.transform(X_test)\n",
    "model1 = XGBClassifier(\n",
    "        n_estimators = 20, \n",
    "        max_depth = 5,\n",
    "        learning_rate = .5,\n",
    "        n_jobs = -1\n",
    "\n",
    ")\n",
    "\n",
    "eval_set = [(X_train_encoded,y_train),\n",
    "           (X_val_encoded,y_val)]\n",
    "model1.fit(X_train_encoded, y_train,\n",
    "         eval_set = eval_set,\n",
    "          eval_metric = 'auc',\n",
    "          early_stopping_rounds = 20)"
   ]
  },
  {
   "cell_type": "code",
   "execution_count": 36,
   "metadata": {},
   "outputs": [
    {
     "data": {
      "text/plain": [
       "0.7723398600159476"
      ]
     },
     "execution_count": 36,
     "metadata": {},
     "output_type": "execute_result"
    }
   ],
   "source": [
    "model1.score(X_val_encoded,y_val)"
   ]
  },
  {
   "cell_type": "code",
   "execution_count": null,
   "metadata": {},
   "outputs": [
    {
     "name": "stdout",
     "output_type": "stream",
     "text": [
      "Requirement already satisfied: eli5 in /Users/johnrivera/.virtualenvs/jupyter/lib/python3.7/site-packages (0.10.1)\n",
      "Requirement already satisfied: scikit-learn>=0.18 in /Users/johnrivera/.virtualenvs/jupyter/lib/python3.7/site-packages (from eli5) (0.23.1)\n",
      "Requirement already satisfied: numpy>=1.9.0 in /Users/johnrivera/.virtualenvs/jupyter/lib/python3.7/site-packages (from eli5) (1.19.0)\n",
      "Requirement already satisfied: jinja2 in /Users/johnrivera/.virtualenvs/jupyter/lib/python3.7/site-packages (from eli5) (2.11.2)\n",
      "Requirement already satisfied: graphviz in /Users/johnrivera/.virtualenvs/jupyter/lib/python3.7/site-packages (from eli5) (0.14.1)\n",
      "Requirement already satisfied: tabulate>=0.7.7 in /Users/johnrivera/.virtualenvs/jupyter/lib/python3.7/site-packages (from eli5) (0.8.7)\n",
      "Requirement already satisfied: six in /Users/johnrivera/.virtualenvs/jupyter/lib/python3.7/site-packages (from eli5) (1.15.0)\n",
      "Requirement already satisfied: attrs>16.0.0 in /Users/johnrivera/.virtualenvs/jupyter/lib/python3.7/site-packages (from eli5) (19.3.0)\n",
      "Requirement already satisfied: scipy in /Users/johnrivera/.virtualenvs/jupyter/lib/python3.7/site-packages (from eli5) (1.5.1)\n",
      "Requirement already satisfied: joblib>=0.11 in /Users/johnrivera/.virtualenvs/jupyter/lib/python3.7/site-packages (from scikit-learn>=0.18->eli5) (0.16.0)\n",
      "Requirement already satisfied: threadpoolctl>=2.0.0 in /Users/johnrivera/.virtualenvs/jupyter/lib/python3.7/site-packages (from scikit-learn>=0.18->eli5) (2.1.0)\n",
      "Requirement already satisfied: MarkupSafe>=0.23 in /Users/johnrivera/.virtualenvs/jupyter/lib/python3.7/site-packages (from jinja2->eli5) (1.1.1)\n"
     ]
    },
    {
     "name": "stderr",
     "output_type": "stream",
     "text": [
      "/Users/johnrivera/.virtualenvs/jupyter/lib/python3.7/site-packages/sklearn/utils/deprecation.py:143: FutureWarning: The sklearn.metrics.scorer module is  deprecated in version 0.22 and will be removed in version 0.24. The corresponding classes / functions should instead be imported from sklearn.metrics. Anything that cannot be imported from sklearn.metrics is now part of the private API.\n",
      "  warnings.warn(message, FutureWarning)\n",
      "/Users/johnrivera/.virtualenvs/jupyter/lib/python3.7/site-packages/sklearn/utils/deprecation.py:143: FutureWarning: The sklearn.feature_selection.base module is  deprecated in version 0.22 and will be removed in version 0.24. The corresponding classes / functions should instead be imported from sklearn.feature_selection. Anything that cannot be imported from sklearn.feature_selection is now part of the private API.\n",
      "  warnings.warn(message, FutureWarning)\n"
     ]
    }
   ],
   "source": [
    "!pip install eli5\n",
    "import eli5\n",
    "from eli5.sklearn import PermutationImportance\n",
    "permuter = PermutationImportance(\n",
    "    model1,\n",
    "    scoring = 'accuracy',\n",
    "    n_iter= 5,\n",
    "    random_state = 42\n",
    "    )\n",
    "permuter.fit(X_val_encoded,y_val)"
   ]
  },
  {
   "cell_type": "code",
   "execution_count": null,
   "metadata": {},
   "outputs": [],
   "source": [
    "permuter.feature_importances_\n",
    "feature_names = X_val.columns.tolist()\n",
    "pd.Series(permuter.feature_importances_, feature_names).sort_values(ascending=False)"
   ]
  },
  {
   "cell_type": "code",
   "execution_count": null,
   "metadata": {},
   "outputs": [],
   "source": [
    "#based on these weigths we can see which columns are best to drop\n",
    "eli5.show_weights(\n",
    "    permuter,\n",
    "    top=None, # shows permutation importances of all features\n",
    "    feature_names = feature_names\n",
    "\n",
    ")"
   ]
  },
  {
   "cell_type": "code",
   "execution_count": null,
   "metadata": {},
   "outputs": [],
   "source": [
    "permuter.feature_importances_"
   ]
  },
  {
   "cell_type": "markdown",
   "metadata": {},
   "source": [
    "## Feature Selection Based on Permuation Importances"
   ]
  },
  {
   "cell_type": "code",
   "execution_count": null,
   "metadata": {},
   "outputs": [],
   "source": [
    "#Model will be further optimize by identifying and removing\n",
    "#Redundant steps"
   ]
  },
  {
   "cell_type": "code",
   "execution_count": null,
   "metadata": {},
   "outputs": [],
   "source": [
    "print('Shape before removing features:', X_train.shape)"
   ]
  },
  {
   "cell_type": "code",
   "execution_count": null,
   "metadata": {},
   "outputs": [],
   "source": [
    "minimum_importance = 0.0019\n",
    "permuter.feature_importances_ >minimum_importance"
   ]
  },
  {
   "cell_type": "code",
   "execution_count": null,
   "metadata": {},
   "outputs": [],
   "source": [
    "mask = permuter.feature_importances_ >= minimum_importance"
   ]
  },
  {
   "cell_type": "code",
   "execution_count": null,
   "metadata": {},
   "outputs": [],
   "source": [
    "#Using Features from Permutation Importances\n",
    "features = list(X_train.columns[mask])\n",
    "features"
   ]
  },
  {
   "cell_type": "code",
   "execution_count": null,
   "metadata": {},
   "outputs": [],
   "source": [
    "X_train1 = X_train[features]\n",
    "print('Shape after removing features:', X_train1.shape)\n"
   ]
  },
  {
   "cell_type": "code",
   "execution_count": null,
   "metadata": {},
   "outputs": [],
   "source": [
    "X_val1 = X_val[features]\n",
    "print('Shape after removing features:', X_val1.shape)"
   ]
  },
  {
   "cell_type": "code",
   "execution_count": null,
   "metadata": {},
   "outputs": [],
   "source": [
    "X_test1 = X_test[features]"
   ]
  },
  {
   "cell_type": "code",
   "execution_count": null,
   "metadata": {},
   "outputs": [],
   "source": [
    "#Run XGBoost again w/ Early Stopping to prevent overfitting and too select optimal number of\n",
    "#estimators\n",
    "\n",
    "encoder = ce.OrdinalEncoder()\n",
    "X_train_encoded = encoder.fit_transform(X_train1)\n",
    "X_val_encoded = encoder.transform(X_val1)\n",
    "X_test_encoded = encoder.transform(X_test1)\n",
    "\n",
    "model1 = XGBClassifier(\n",
    "                n_estimators = 200,\n",
    "                max_depth = 2,\n",
    "                learning_rate = .5,\n",
    "                n_jobs = -1)\n",
    "\n"
   ]
  },
  {
   "cell_type": "code",
   "execution_count": null,
   "metadata": {},
   "outputs": [],
   "source": [
    "eval_set = [(X_train_encoded,y_train),\n",
    "           (X_val_encoded,y_val)]\n",
    "model1.fit(X_train_encoded, y_train)"
   ]
  },
  {
   "cell_type": "code",
   "execution_count": null,
   "metadata": {},
   "outputs": [],
   "source": [
    "model1.fit(X_train_encoded, y_train,\n",
    "         eval_set = eval_set,\n",
    "          eval_metric = 'auc',\n",
    "          early_stopping_rounds = 300)"
   ]
  },
  {
   "cell_type": "code",
   "execution_count": null,
   "metadata": {},
   "outputs": [],
   "source": []
  },
  {
   "cell_type": "code",
   "execution_count": null,
   "metadata": {},
   "outputs": [],
   "source": [
    "permuter1 = PermutationImportance(\n",
    "    model1,\n",
    "    scoring = 'accuracy',\n",
    "    n_iter= 5,\n",
    "    random_state = 42\n",
    "    )\n",
    "permuter1.fit(X_val_encoded,y_val)"
   ]
  },
  {
   "cell_type": "code",
   "execution_count": null,
   "metadata": {},
   "outputs": [],
   "source": [
    "feature_names1 = X_val1.columns.tolist()\n",
    "feature_names1"
   ]
  },
  {
   "cell_type": "code",
   "execution_count": null,
   "metadata": {},
   "outputs": [],
   "source": [
    "#based on this we can see what columns are best to drop\n",
    "eli5.show_weights(\n",
    "    permuter1,\n",
    "    top=None, # shows permutation importances of all features\n",
    "    feature_names = feature_names1\n",
    "\n",
    ")\n"
   ]
  },
  {
   "cell_type": "code",
   "execution_count": null,
   "metadata": {},
   "outputs": [],
   "source": []
  },
  {
   "cell_type": "markdown",
   "metadata": {},
   "source": [
    "## Evaluation Metrics\n"
   ]
  },
  {
   "cell_type": "code",
   "execution_count": null,
   "metadata": {},
   "outputs": [],
   "source": [
    "plot_confusion_matrix(model1, X_val_encoded, y_val, values_format='.0f', xticks_rotation='vertical');"
   ]
  },
  {
   "cell_type": "code",
   "execution_count": null,
   "metadata": {},
   "outputs": [],
   "source": [
    "#Helps me identify the order of the class labels in the target\n",
    "model1.classes_ "
   ]
  },
  {
   "cell_type": "code",
   "execution_count": null,
   "metadata": {},
   "outputs": [],
   "source": [
    "y_pred1 = model1.predict(X_val_encoded)\n",
    "y_pred_probab1 = model1.predict_proba(X_val_encoded)"
   ]
  },
  {
   "cell_type": "code",
   "execution_count": null,
   "metadata": {},
   "outputs": [],
   "source": [
    "y_pred1"
   ]
  },
  {
   "cell_type": "code",
   "execution_count": null,
   "metadata": {},
   "outputs": [],
   "source": [
    "print('Classification report for XGBoost')\n",
    "print(classification_report(y_val, y_pred1))"
   ]
  },
  {
   "cell_type": "code",
   "execution_count": null,
   "metadata": {},
   "outputs": [],
   "source": [
    "roc_auc_score(y_val,y_pred_probab1[:,1])"
   ]
  },
  {
   "cell_type": "code",
   "execution_count": null,
   "metadata": {},
   "outputs": [],
   "source": [
    "accuracy_score(y_val,y_pred1)"
   ]
  },
  {
   "cell_type": "markdown",
   "metadata": {},
   "source": [
    "## Model2 - Logistic Regression"
   ]
  },
  {
   "cell_type": "code",
   "execution_count": null,
   "metadata": {},
   "outputs": [],
   "source": [
    "model2 = make_pipeline(\n",
    "    ce.OrdinalEncoder(),\n",
    "    SimpleImputer(strategy='mean'),\n",
    "    LogisticRegression(random_state=40)\n",
    ")\n",
    "model2.fit(X_train, y_train)\n",
    "\n"
   ]
  },
  {
   "cell_type": "code",
   "execution_count": null,
   "metadata": {},
   "outputs": [],
   "source": [
    "y_pred1 = model2.predict(X_val)\n",
    "print('Classification Report for Logistic Regression Model')\n",
    "print(classification_report(y_val, y_pred1))"
   ]
  },
  {
   "cell_type": "markdown",
   "metadata": {},
   "source": [
    "## ROCAUC Curve for Model0,Model1,& Model3"
   ]
  },
  {
   "cell_type": "code",
   "execution_count": null,
   "metadata": {},
   "outputs": [],
   "source": [
    "import sklearn.metrics as metrics\n",
    "# calculate the fpr and tpr for all thresholds of the classification\n",
    "\n",
    "probs2 = model2.predict_proba(X_val)\n",
    "preds2 = probs2[:,1]\n",
    "fpr2,tpr2, threshold = metrics.roc_curve(y_val,preds2, pos_label='Check-Out')\n",
    "roc_auc2 = metrics.auc(fpr2,tpr2)\n",
    "\n",
    "probs1 = model1.predict_proba(X_val_encoded)\n",
    "preds1 = probs1[:,1]\n",
    "fpr1, tpr1, threshold = metrics.roc_curve(y_val, preds1, pos_label='Check-Out')\n",
    "roc_auc1 = metrics.auc(fpr1, tpr1)\n",
    "\n",
    "probs0 = model0.predict_proba(X_val)\n",
    "preds0 = probs0[:,1]\n",
    "fpr0, tpr0, threshold = metrics.roc_curve(y_val, preds0, pos_label ='Check-Out')\n",
    "roc_auc0 = metrics.auc(fpr0, tpr0)\n",
    "\n",
    "\n",
    "\n",
    "# method I: plt\n",
    "import matplotlib.pyplot as plt\n",
    "plt.title('Receiver Operating Characteristic')\n",
    "plt.plot(fpr1, tpr1, 'b', label = 'AUC for XGBOOST = %0.2f' % roc_auc1)\n",
    "plt.plot(fpr0, tpr0, 'r', label = 'AUC for RandomForest = %0.2f' % roc_auc0)\n",
    "plt.plot(fpr2, tpr2, 'g', label = 'AUC for Logistic Regressiom = %0.2f' % roc_auc2)\n",
    "plt.legend(loc = 'lower right')\n",
    "plt.plot([0, 1], [0, 1],'r--')\n",
    "plt.xlim([0, 1])\n",
    "plt.ylim([0, 1])\n",
    "plt.ylabel('True Positive Rate')\n",
    "plt.xlabel('False Positive Rate')\n",
    "plt.show()"
   ]
  },
  {
   "cell_type": "code",
   "execution_count": null,
   "metadata": {},
   "outputs": [],
   "source": [
    "!pip install matplotlib"
   ]
  },
  {
   "cell_type": "code",
   "execution_count": null,
   "metadata": {},
   "outputs": [],
   "source": [
    "!pip install pdpbox"
   ]
  },
  {
   "cell_type": "markdown",
   "metadata": {},
   "source": [
    "## Test Set Results"
   ]
  },
  {
   "cell_type": "code",
   "execution_count": null,
   "metadata": {},
   "outputs": [],
   "source": [
    "# I restrained myself to use my test data\n",
    "# Until the very end\n",
    "y_pred3 = model1.predict(X_test_encoded)\n",
    "print('Classification report for XGBoost on Test Set Data')\n",
    "print(classification_report(y_test, y_pred3))"
   ]
  },
  {
   "cell_type": "code",
   "execution_count": null,
   "metadata": {},
   "outputs": [],
   "source": [
    "y_pred4 = model2.predict(X_test)\n",
    "print('Classification Report for Logistic Regression Model on Test Set Data')\n",
    "print(classification_report(y_test,y_pred4))"
   ]
  },
  {
   "cell_type": "code",
   "execution_count": null,
   "metadata": {},
   "outputs": [],
   "source": [
    "y_pred5 = model0.predict(X_test)\n",
    "print('Random Forest Classifier Classification Report on Test Set Data')\n",
    "print(classification_report(y_test, y_pred5))"
   ]
  },
  {
   "cell_type": "code",
   "execution_count": null,
   "metadata": {},
   "outputs": [],
   "source": [
    "import sklearn.metrics as metrics\n",
    "# calculate the fpr and tpr for all thresholds of the classification models\n",
    "# This aucroc curve will use the test set\n",
    "\n",
    "probs2 = model2.predict_proba(X_test)\n",
    "preds2 = probs2[:,1]\n",
    "fpr2,tpr2, threshold = metrics.roc_curve(y_test,preds2, pos_label='Check-Out')\n",
    "roc_auc2 = metrics.auc(fpr2,tpr2)\n",
    "\n",
    "probs1 = model1.predict_proba(X_test_encoded)\n",
    "preds1 = probs1[:,1]\n",
    "fpr1, tpr1, threshold = metrics.roc_curve(y_test, preds1, pos_label='Check-Out')\n",
    "roc_auc1 = metrics.auc(fpr1, tpr1)\n",
    "\n",
    "probs0 = model0.predict_proba(X_test)\n",
    "preds0 = probs0[:,1]\n",
    "fpr0, tpr0, threshold = metrics.roc_curve(y_test, preds0, pos_label ='Check-Out')\n",
    "roc_auc0 = metrics.auc(fpr0, tpr0)\n",
    "\n",
    "\n",
    "\n",
    "# method I: plt\n",
    "import matplotlib.pyplot as plt\n",
    "plt.title('Receiver Operating Characteristic')\n",
    "plt.plot(fpr1, tpr1, 'b', label = 'AUC for XGBOOST = %0.2f' % roc_auc1)\n",
    "plt.plot(fpr0, tpr0, 'r', label = 'AUC for RandomForest = %0.2f' % roc_auc0)\n",
    "plt.plot(fpr2, tpr2, 'g', label = 'AUC for Logistic Regressiom = %0.2f' % roc_auc2)\n",
    "plt.legend(loc = 'lower right')\n",
    "plt.plot([0, 1], [0, 1],'r--')\n",
    "plt.xlim([0, 1])\n",
    "plt.ylim([0, 1])\n",
    "plt.ylabel('True Positive Rate')\n",
    "plt.xlabel('False Positive Rate')\n",
    "plt.show()"
   ]
  },
  {
   "cell_type": "markdown",
   "metadata": {},
   "source": [
    "## PDP PLOTS"
   ]
  },
  {
   "cell_type": "code",
   "execution_count": null,
   "metadata": {},
   "outputs": [],
   "source": [
    "#Looking at what the encodings signify\n",
    "pd.options.display.max_rows = 500\n",
    "print(encoder.mapping)"
   ]
  },
  {
   "cell_type": "code",
   "execution_count": null,
   "metadata": {},
   "outputs": [],
   "source": [
    "# labels for encoded columns:\n",
    "##looking at encoder mappings\n",
    "#encoder.mapping[2]"
   ]
  },
  {
   "cell_type": "code",
   "execution_count": null,
   "metadata": {},
   "outputs": [],
   "source": [
    "encoder.mapping[-1]"
   ]
  },
  {
   "cell_type": "code",
   "execution_count": null,
   "metadata": {},
   "outputs": [],
   "source": [
    "\n",
    "from pdpbox.pdp import pdp_isolate, pdp_plot\n",
    "pdp_feature = 'country'\n",
    "isolated = pdp_isolate(model=model1,\n",
    "        dataset=X_val_encoded,\n",
    "        model_features=feature_names1,\n",
    "        feature=pdp_feature\n",
    "    )"
   ]
  },
  {
   "cell_type": "code",
   "execution_count": null,
   "metadata": {},
   "outputs": [],
   "source": [
    "pdp_plot;"
   ]
  },
  {
   "cell_type": "code",
   "execution_count": null,
   "metadata": {},
   "outputs": [],
   "source": [
    "pdp_plot(isolated, feature_name= pdp_feature);"
   ]
  },
  {
   "cell_type": "code",
   "execution_count": null,
   "metadata": {},
   "outputs": [],
   "source": [
    "# Virtually all the countries in the data set have a positive impact in determining if \n",
    "# "
   ]
  },
  {
   "cell_type": "code",
   "execution_count": null,
   "metadata": {},
   "outputs": [],
   "source": [
    "pdp_feature2 = 'deposit_type'\n",
    "isolated = pdp_isolate(\n",
    "    model=model1,\n",
    "    dataset=X_val_encoded,\n",
    "    model_features=feature_names1,\n",
    "    feature=pdp_feature2\n",
    "\n",
    ")"
   ]
  },
  {
   "cell_type": "code",
   "execution_count": null,
   "metadata": {},
   "outputs": [],
   "source": [
    "pdp_plot(isolated, feature_name= pdp_feature2);"
   ]
  },
  {
   "cell_type": "code",
   "execution_count": null,
   "metadata": {},
   "outputs": [],
   "source": [
    "#I interpret this model as: if the person made a nonrefundable deposit, there is a higher likeley hood he will check in\n",
    "# The converse seems to be true as swell , If the person did't make a deposit, there is a higher likeley he will canceled\n",
    "#previous_cancellations"
   ]
  },
  {
   "cell_type": "markdown",
   "metadata": {},
   "source": [
    "## PDP 2 FEATURES INTERACTION "
   ]
  },
  {
   "cell_type": "code",
   "execution_count": null,
   "metadata": {},
   "outputs": [],
   "source": [
    "pdp_two_features = ['deposit_type', 'country']"
   ]
  },
  {
   "cell_type": "code",
   "execution_count": null,
   "metadata": {},
   "outputs": [],
   "source": [
    "from pdpbox.pdp import pdp_interact, pdp_interact_plot\n",
    "interaction = pdp_interact(\n",
    "        model = model1,\n",
    "        dataset = X_val_encoded,\n",
    "        model_features=X_val_encoded.columns,\n",
    "        features = pdp_two_features\n",
    ")"
   ]
  },
  {
   "cell_type": "code",
   "execution_count": null,
   "metadata": {},
   "outputs": [],
   "source": [
    "pdp_interact_plot(interaction, plot_type='grid', feature_names=pdp_two_features)"
   ]
  },
  {
   "cell_type": "markdown",
   "metadata": {},
   "source": [
    "## SHAPLEY PLOTS\n"
   ]
  },
  {
   "cell_type": "code",
   "execution_count": null,
   "metadata": {},
   "outputs": [],
   "source": [
    "!pip install shap\n",
    "import shap"
   ]
  },
  {
   "cell_type": "code",
   "execution_count": null,
   "metadata": {},
   "outputs": [],
   "source": [
    "#individual observation to explain\n",
    "row = X_val_encoded.iloc[[0]]\n",
    "row"
   ]
  },
  {
   "cell_type": "code",
   "execution_count": null,
   "metadata": {},
   "outputs": [],
   "source": [
    "#did the person check out or not for this observation?\n",
    "y_val.iloc[[0]]"
   ]
  },
  {
   "cell_type": "code",
   "execution_count": null,
   "metadata": {},
   "outputs": [],
   "source": [
    "model1"
   ]
  },
  {
   "cell_type": "code",
   "execution_count": null,
   "metadata": {},
   "outputs": [],
   "source": [
    "#what is the model's prediction?\n",
    "model1.predict(row)"
   ]
  },
  {
   "cell_type": "code",
   "execution_count": null,
   "metadata": {},
   "outputs": [],
   "source": [
    "model1.predict_proba(X_val_encoded)[0]"
   ]
  },
  {
   "cell_type": "code",
   "execution_count": null,
   "metadata": {},
   "outputs": [],
   "source": [
    "model1"
   ]
  },
  {
   "cell_type": "code",
   "execution_count": null,
   "metadata": {},
   "outputs": [],
   "source": [
    "#was having some problems w/ encoding \n",
    "#UnicodeDecodeError \n",
    "#this code solved the problem\n",
    "#https://github.com/slundberg/shap/issues/1215\n",
    "\n",
    "\n",
    "# mybooster = model1.get_booster()\n",
    "# model_bytearray = mybooster.save_raw()[4:]\n",
    "# def myfun(self=None):\n",
    "#     return model_bytearray\n",
    "# mybooster.save_raw = myfun"
   ]
  },
  {
   "cell_type": "code",
   "execution_count": null,
   "metadata": {},
   "outputs": [],
   "source": [
    "import shap\n",
    "explainer = shap.TreeExplainer(model1)\n"
   ]
  },
  {
   "cell_type": "code",
   "execution_count": null,
   "metadata": {},
   "outputs": [],
   "source": [
    "shap_values = explainer.shap_values(row)\n",
    "shap_values"
   ]
  },
  {
   "cell_type": "code",
   "execution_count": null,
   "metadata": {},
   "outputs": [],
   "source": [
    "shap.initjs()\n",
    "shap.force_plot(\n",
    "    base_value=explainer.expected_value,\n",
    "    shap_values=shap_values,\n",
    "    features=row,\n",
    "     link='logit'\n",
    "\n",
    "\n",
    "\n",
    ")"
   ]
  },
  {
   "cell_type": "code",
   "execution_count": null,
   "metadata": {},
   "outputs": [],
   "source": [
    "def predict_row(row_number):\n",
    "    positive_class = 'Check-Out'\n",
    "    positive_class_index = 1\n",
    "\n",
    "    # Get & process the data for the row\n",
    "    row = X_val_encoded.iloc[[row_number]]\n",
    "    #row_processed = processor.transform(row)\n",
    "\n",
    "    # Make predictions (includes predicted probability)\n",
    "    pred = model1.predict(row)[0]\n",
    "    pred_proba = model1.predict_proba(row)[0, positive_class_index]\n",
    "    pred_proba *= 100\n",
    "    if pred != positive_class:\n",
    "        pred_proba = 100 - pred_proba\n",
    "\n",
    "    # Show prediction & probability\n",
    "    print(f'The model predicts person {pred}, with {pred_proba:.0f}% probability.')\n",
    "    \n",
    "    # Get shapley additive explanations\n",
    "    shap_values = explainer.shap_values(row)\n",
    "\n",
    "    # Get top 3 \"pros & cons\" for fully paid\n",
    "    feature_names = row.columns\n",
    "    feature_values = row.values[0]\n",
    "    shaps = pd.Series(shap_values[0], zip(feature_names, feature_values))\n",
    "    pros = shaps.sort_values(ascending=False)[:3].index\n",
    "    cons = shaps.sort_values(ascending=True)[:3].index\n",
    "\n",
    "    # Show top 3 reason for prediction\n",
    "    print('\\n')\n",
    "    print('Top 3 reasons for prediction:')\n",
    "    evidence = pros if pred == positive_class else cons\n",
    "    for i, info in enumerate(evidence, start=1):\n",
    "        feature_name, feature_value = info\n",
    "        print(f'{i}. {feature_name} is {feature_value}.')\n",
    "\n",
    "    # Show top 1 counter-argument against prediction\n",
    "    print('\\n')\n",
    "    print('Top counter-argument against prediction:')\n",
    "    evidence = cons if pred == positive_class else pros\n",
    "    feature_name, feature_value = evidence[0]\n",
    "    print(f'- {feature_name} is {feature_value}.')\n",
    "\n",
    "    # Show Shapley Values Force Plot\n",
    "    shap.initjs()\n",
    "    return shap.force_plot(\n",
    "        base_value=explainer.expected_value, \n",
    "        shap_values=shap_values, \n",
    "        features=row, \n",
    "        link='logit' # For classification, this shows predicted probabilities\n",
    "    )\n"
   ]
  },
  {
   "cell_type": "code",
   "execution_count": null,
   "metadata": {},
   "outputs": [],
   "source": [
    "predict_row(10)"
   ]
  },
  {
   "cell_type": "code",
   "execution_count": null,
   "metadata": {},
   "outputs": [],
   "source": [
    "predict_row(1000)"
   ]
  }
 ],
 "metadata": {
  "kernelspec": {
   "display_name": "Python 3",
   "language": "python",
   "name": "python3"
  },
  "language_info": {
   "codemirror_mode": {
    "name": "ipython",
    "version": 3
   },
   "file_extension": ".py",
   "mimetype": "text/x-python",
   "name": "python",
   "nbconvert_exporter": "python",
   "pygments_lexer": "ipython3",
   "version": "3.7.3"
  }
 },
 "nbformat": 4,
 "nbformat_minor": 4
}
