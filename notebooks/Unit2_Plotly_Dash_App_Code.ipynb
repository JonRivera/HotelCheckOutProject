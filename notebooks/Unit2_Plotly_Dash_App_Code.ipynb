{
 "cells": [
  {
   "cell_type": "code",
   "execution_count": 281,
   "metadata": {},
   "outputs": [
    {
     "name": "stdout",
     "output_type": "stream",
     "text": [
      "Package               Version\n",
      "--------------------- -----------\n",
      "appnope               0.1.0\n",
      "as                    0.1\n",
      "astropy               4.0.1.post1\n",
      "attrs                 19.3.0\n",
      "backcall              0.2.0\n",
      "bleach                3.1.5\n",
      "Brotli                1.0.7\n",
      "category-encoders     2.2.2\n",
      "certifi               2020.6.20\n",
      "chardet               3.0.4\n",
      "click                 7.1.2\n",
      "confuse               1.3.0\n",
      "cycler                0.10.0\n",
      "dash                  1.13.4\n",
      "dash-core-components  1.10.1\n",
      "dash-html-components  1.0.3\n",
      "dash-renderer         1.5.1\n",
      "dash-table            4.8.1\n",
      "decorator             4.4.2\n",
      "defusedxml            0.6.0\n",
      "eli5                  0.10.1\n",
      "entrypoints           0.3\n",
      "Flask                 1.1.2\n",
      "Flask-Compress        1.5.0\n",
      "future                0.18.2\n",
      "graphviz              0.14.1\n",
      "htmlmin               0.1.12\n",
      "idna                  2.10\n",
      "ImageHash             4.1.0\n",
      "importlib-metadata    1.7.0\n",
      "ipykernel             5.3.2\n",
      "ipython               7.16.1\n",
      "ipython-genutils      0.2.0\n",
      "ipywidgets            7.5.1\n",
      "itsdangerous          1.1.0\n",
      "jedi                  0.17.1\n",
      "Jinja2                2.11.2\n",
      "joblib                0.16.0\n",
      "json5                 0.9.5\n",
      "jsonschema            3.2.0\n",
      "jupyter               1.0.0\n",
      "jupyter-client        6.1.5\n",
      "jupyter-console       6.1.0\n",
      "jupyter-core          4.6.3\n",
      "jupyterlab            2.1.5\n",
      "jupyterlab-server     1.2.0\n",
      "kiwisolver            1.2.0\n",
      "llvmlite              0.33.0\n",
      "MarkupSafe            1.1.1\n",
      "matplotlib            3.2.2\n",
      "missingno             0.4.2\n",
      "mistune               0.8.4\n",
      "nbconvert             5.6.1\n",
      "nbformat              5.0.7\n",
      "networkx              2.4\n",
      "notebook              6.0.3\n",
      "numba                 0.50.1\n",
      "numpy                 1.19.0\n",
      "packaging             20.4\n",
      "pandas                1.0.5\n",
      "pandas-profiling      2.8.0\n",
      "pandocfilters         1.4.2\n",
      "parso                 0.7.0\n",
      "patsy                 0.5.1\n",
      "PDPbox                0.2.0\n",
      "pexpect               4.8.0\n",
      "phik                  0.10.0\n",
      "pickleshare           0.7.5\n",
      "Pillow                7.2.0\n",
      "pip                   20.1.1\n",
      "plotly                4.8.2\n",
      "prometheus-client     0.8.0\n",
      "prompt-toolkit        3.0.5\n",
      "psutil                5.7.2\n",
      "ptyprocess            0.6.0\n",
      "Pygments              2.6.1\n",
      "pyparsing             2.4.7\n",
      "pyrsistent            0.16.0\n",
      "python-dateutil       2.8.1\n",
      "pytz                  2020.1\n",
      "PyWavelets            1.1.1\n",
      "PyYAML                5.3.1\n",
      "pyzmq                 19.0.1\n",
      "qtconsole             4.7.5\n",
      "QtPy                  1.9.0\n",
      "requests              2.24.0\n",
      "retrying              1.3.3\n",
      "scikit-learn          0.23.1\n",
      "scipy                 1.5.1\n",
      "seaborn               0.10.1\n",
      "Send2Trash            1.5.0\n",
      "setuptools            49.1.0\n",
      "shap                  0.35.0\n",
      "six                   1.15.0\n",
      "sklearn               0.0\n",
      "slicer                0.0.2\n",
      "statsmodels           0.11.1\n",
      "tabulate              0.8.7\n",
      "tangled-up-in-unicode 0.0.6\n",
      "terminado             0.8.3\n",
      "testpath              0.4.4\n",
      "threadpoolctl         2.1.0\n",
      "tornado               6.0.4\n",
      "tqdm                  4.47.0\n",
      "traitlets             4.3.3\n",
      "urllib3               1.25.9\n",
      "visions               0.4.4\n",
      "wcwidth               0.2.5\n",
      "webencodings          0.5.1\n",
      "Werkzeug              1.0.1\n",
      "wheel                 0.34.2\n",
      "widgetsnbextension    3.5.1\n",
      "xgboost               1.1.0\n",
      "zipp                  3.1.0\n"
     ]
    }
   ],
   "source": [
    "#libraries/Packages versions used for this Project\n",
    "!pip list"
   ]
  },
  {
   "cell_type": "code",
   "execution_count": 282,
   "metadata": {},
   "outputs": [
    {
     "name": "stdout",
     "output_type": "stream",
     "text": [
      "Requirement already satisfied: matplotlib in /Users/johnrivera/.virtualenvs/jupyter/lib/python3.7/site-packages (3.2.2)\n",
      "Requirement already satisfied: python-dateutil>=2.1 in /Users/johnrivera/.virtualenvs/jupyter/lib/python3.7/site-packages (from matplotlib) (2.8.1)\n",
      "Requirement already satisfied: numpy>=1.11 in /Users/johnrivera/.virtualenvs/jupyter/lib/python3.7/site-packages (from matplotlib) (1.19.0)\n",
      "Requirement already satisfied: kiwisolver>=1.0.1 in /Users/johnrivera/.virtualenvs/jupyter/lib/python3.7/site-packages (from matplotlib) (1.2.0)\n",
      "Requirement already satisfied: cycler>=0.10 in /Users/johnrivera/.virtualenvs/jupyter/lib/python3.7/site-packages (from matplotlib) (0.10.0)\n",
      "Requirement already satisfied: pyparsing!=2.0.4,!=2.1.2,!=2.1.6,>=2.0.1 in /Users/johnrivera/.virtualenvs/jupyter/lib/python3.7/site-packages (from matplotlib) (2.4.7)\n",
      "Requirement already satisfied: six>=1.5 in /Users/johnrivera/.virtualenvs/jupyter/lib/python3.7/site-packages (from python-dateutil>=2.1->matplotlib) (1.15.0)\n",
      "Requirement already satisfied: sklearn in /Users/johnrivera/.virtualenvs/jupyter/lib/python3.7/site-packages (0.0)\n",
      "Requirement already satisfied: scikit-learn in /Users/johnrivera/.virtualenvs/jupyter/lib/python3.7/site-packages (from sklearn) (0.23.1)\n",
      "Requirement already satisfied: joblib>=0.11 in /Users/johnrivera/.virtualenvs/jupyter/lib/python3.7/site-packages (from scikit-learn->sklearn) (0.16.0)\n",
      "Requirement already satisfied: threadpoolctl>=2.0.0 in /Users/johnrivera/.virtualenvs/jupyter/lib/python3.7/site-packages (from scikit-learn->sklearn) (2.1.0)\n",
      "Requirement already satisfied: numpy>=1.13.3 in /Users/johnrivera/.virtualenvs/jupyter/lib/python3.7/site-packages (from scikit-learn->sklearn) (1.19.0)\n",
      "Requirement already satisfied: scipy>=0.19.1 in /Users/johnrivera/.virtualenvs/jupyter/lib/python3.7/site-packages (from scikit-learn->sklearn) (1.5.1)\n",
      "Requirement already satisfied: shap in /Users/johnrivera/.virtualenvs/jupyter/lib/python3.7/site-packages (0.35.0)\n",
      "Requirement already satisfied: tqdm>4.25.0 in /Users/johnrivera/.virtualenvs/jupyter/lib/python3.7/site-packages (from shap) (4.47.0)\n",
      "Requirement already satisfied: scipy in /Users/johnrivera/.virtualenvs/jupyter/lib/python3.7/site-packages (from shap) (1.5.1)\n",
      "Requirement already satisfied: scikit-learn in /Users/johnrivera/.virtualenvs/jupyter/lib/python3.7/site-packages (from shap) (0.23.1)\n",
      "Requirement already satisfied: numpy in /Users/johnrivera/.virtualenvs/jupyter/lib/python3.7/site-packages (from shap) (1.19.0)\n",
      "Requirement already satisfied: pandas in /Users/johnrivera/.virtualenvs/jupyter/lib/python3.7/site-packages (from shap) (1.0.5)\n",
      "Requirement already satisfied: threadpoolctl>=2.0.0 in /Users/johnrivera/.virtualenvs/jupyter/lib/python3.7/site-packages (from scikit-learn->shap) (2.1.0)\n",
      "Requirement already satisfied: joblib>=0.11 in /Users/johnrivera/.virtualenvs/jupyter/lib/python3.7/site-packages (from scikit-learn->shap) (0.16.0)\n",
      "Requirement already satisfied: pytz>=2017.2 in /Users/johnrivera/.virtualenvs/jupyter/lib/python3.7/site-packages (from pandas->shap) (2020.1)\n",
      "Requirement already satisfied: python-dateutil>=2.6.1 in /Users/johnrivera/.virtualenvs/jupyter/lib/python3.7/site-packages (from pandas->shap) (2.8.1)\n",
      "Requirement already satisfied: six>=1.5 in /Users/johnrivera/.virtualenvs/jupyter/lib/python3.7/site-packages (from python-dateutil>=2.6.1->pandas->shap) (1.15.0)\n",
      "Requirement already satisfied: joblib in /Users/johnrivera/.virtualenvs/jupyter/lib/python3.7/site-packages (0.16.0)\n"
     ]
    }
   ],
   "source": [
    "!pip install matplotlib\n",
    "!pip install sklearn\n",
    "!pip install shap\n",
    "!pip install joblib\n",
    "import xgboost\n",
    "import sklearn\n",
    "import seaborn as sns\n",
    "import matplotlib.pyplot as plt\n"
   ]
  },
  {
   "cell_type": "code",
   "execution_count": 283,
   "metadata": {},
   "outputs": [],
   "source": [
    "import pandas as pd\n",
    "pd.set_option('max_columns', 40)"
   ]
  },
  {
   "cell_type": "code",
   "execution_count": 284,
   "metadata": {},
   "outputs": [
    {
     "name": "stdout",
     "output_type": "stream",
     "text": [
      "Requirement already up-to-date: scikit-learn in /Users/johnrivera/.virtualenvs/jupyter/lib/python3.7/site-packages (0.23.1)\n",
      "Requirement already satisfied, skipping upgrade: numpy>=1.13.3 in /Users/johnrivera/.virtualenvs/jupyter/lib/python3.7/site-packages (from scikit-learn) (1.19.0)\n",
      "Requirement already satisfied, skipping upgrade: scipy>=0.19.1 in /Users/johnrivera/.virtualenvs/jupyter/lib/python3.7/site-packages (from scikit-learn) (1.5.1)\n",
      "Requirement already satisfied, skipping upgrade: threadpoolctl>=2.0.0 in /Users/johnrivera/.virtualenvs/jupyter/lib/python3.7/site-packages (from scikit-learn) (2.1.0)\n",
      "Requirement already satisfied, skipping upgrade: joblib>=0.11 in /Users/johnrivera/.virtualenvs/jupyter/lib/python3.7/site-packages (from scikit-learn) (0.16.0)\n"
     ]
    }
   ],
   "source": [
    "\n",
    "!pip install -U scikit-learn\n"
   ]
  },
  {
   "cell_type": "code",
   "execution_count": 285,
   "metadata": {},
   "outputs": [],
   "source": [
    "#importing data\n",
    "import pandas as pd\n",
    "df = pd.read_csv(\"https://raw.githubusercontent.com/JonRivera/JonRivera.github.io/master/Unit2/Buil_Week/Data_Sets/Hotel_Bookings/hotel_bookings.csv\")"
   ]
  },
  {
   "cell_type": "markdown",
   "metadata": {},
   "source": [
    "## EXPLORATORY ANALYSIS \n"
   ]
  },
  {
   "cell_type": "code",
   "execution_count": 286,
   "metadata": {},
   "outputs": [
    {
     "data": {
      "text/plain": [
       "<matplotlib.axes._subplots.AxesSubplot at 0x130a2f748>"
      ]
     },
     "execution_count": 286,
     "metadata": {},
     "output_type": "execute_result"
    },
    {
     "data": {
      "image/png": "[encoded data removed]",
      "text/plain": [
       "<Figure size 432x288 with 1 Axes>"
      ]
     },
     "metadata": {
      "needs_background": "light"
     },
     "output_type": "display_data"
    }
   ],
   "source": [
    "target = 'reservation_status'\n",
    "sns.countplot(df['reservation_status'])"
   ]
  },
  {
   "cell_type": "code",
   "execution_count": 287,
   "metadata": {},
   "outputs": [
    {
     "data": {
      "text/html": [
       "<div>\n",
       "<style scoped>\n",
       "    .dataframe tbody tr th:only-of-type {\n",
       "        vertical-align: middle;\n",
       "    }\n",
       "\n",
       "    .dataframe tbody tr th {\n",
       "        vertical-align: top;\n",
       "    }\n",
       "\n",
       "    .dataframe thead th {\n",
       "        text-align: right;\n",
       "    }\n",
       "</style>\n",
       "<table border=\"1\" class=\"dataframe\">\n",
       "  <thead>\n",
       "    <tr style=\"text-align: right;\">\n",
       "      <th></th>\n",
       "      <th>hotel</th>\n",
       "      <th>is_canceled</th>\n",
       "      <th>lead_time</th>\n",
       "      <th>arrival_date_year</th>\n",
       "      <th>arrival_date_month</th>\n",
       "      <th>arrival_date_week_number</th>\n",
       "      <th>arrival_date_day_of_month</th>\n",
       "      <th>stays_in_weekend_nights</th>\n",
       "      <th>stays_in_week_nights</th>\n",
       "      <th>adults</th>\n",
       "      <th>children</th>\n",
       "      <th>babies</th>\n",
       "      <th>meal</th>\n",
       "      <th>country</th>\n",
       "      <th>market_segment</th>\n",
       "      <th>distribution_channel</th>\n",
       "      <th>is_repeated_guest</th>\n",
       "      <th>previous_cancellations</th>\n",
       "      <th>previous_bookings_not_canceled</th>\n",
       "      <th>reserved_room_type</th>\n",
       "      <th>assigned_room_type</th>\n",
       "      <th>booking_changes</th>\n",
       "      <th>deposit_type</th>\n",
       "      <th>agent</th>\n",
       "      <th>company</th>\n",
       "      <th>days_in_waiting_list</th>\n",
       "      <th>customer_type</th>\n",
       "      <th>adr</th>\n",
       "      <th>required_car_parking_spaces</th>\n",
       "      <th>total_of_special_requests</th>\n",
       "      <th>reservation_status</th>\n",
       "      <th>reservation_status_date</th>\n",
       "    </tr>\n",
       "  </thead>\n",
       "  <tbody>\n",
       "    <tr>\n",
       "      <th>0</th>\n",
       "      <td>Resort Hotel</td>\n",
       "      <td>0</td>\n",
       "      <td>342</td>\n",
       "      <td>2015</td>\n",
       "      <td>July</td>\n",
       "      <td>27</td>\n",
       "      <td>1</td>\n",
       "      <td>0</td>\n",
       "      <td>0</td>\n",
       "      <td>2</td>\n",
       "      <td>0.0</td>\n",
       "      <td>0</td>\n",
       "      <td>BB</td>\n",
       "      <td>PRT</td>\n",
       "      <td>Direct</td>\n",
       "      <td>Direct</td>\n",
       "      <td>0</td>\n",
       "      <td>0</td>\n",
       "      <td>0</td>\n",
       "      <td>C</td>\n",
       "      <td>C</td>\n",
       "      <td>3</td>\n",
       "      <td>No Deposit</td>\n",
       "      <td>NaN</td>\n",
       "      <td>NaN</td>\n",
       "      <td>0</td>\n",
       "      <td>Transient</td>\n",
       "      <td>0.0</td>\n",
       "      <td>0</td>\n",
       "      <td>0</td>\n",
       "      <td>Check-Out</td>\n",
       "      <td>2015-07-01</td>\n",
       "    </tr>\n",
       "    <tr>\n",
       "      <th>1</th>\n",
       "      <td>Resort Hotel</td>\n",
       "      <td>0</td>\n",
       "      <td>737</td>\n",
       "      <td>2015</td>\n",
       "      <td>July</td>\n",
       "      <td>27</td>\n",
       "      <td>1</td>\n",
       "      <td>0</td>\n",
       "      <td>0</td>\n",
       "      <td>2</td>\n",
       "      <td>0.0</td>\n",
       "      <td>0</td>\n",
       "      <td>BB</td>\n",
       "      <td>PRT</td>\n",
       "      <td>Direct</td>\n",
       "      <td>Direct</td>\n",
       "      <td>0</td>\n",
       "      <td>0</td>\n",
       "      <td>0</td>\n",
       "      <td>C</td>\n",
       "      <td>C</td>\n",
       "      <td>4</td>\n",
       "      <td>No Deposit</td>\n",
       "      <td>NaN</td>\n",
       "      <td>NaN</td>\n",
       "      <td>0</td>\n",
       "      <td>Transient</td>\n",
       "      <td>0.0</td>\n",
       "      <td>0</td>\n",
       "      <td>0</td>\n",
       "      <td>Check-Out</td>\n",
       "      <td>2015-07-01</td>\n",
       "    </tr>\n",
       "    <tr>\n",
       "      <th>2</th>\n",
       "      <td>Resort Hotel</td>\n",
       "      <td>0</td>\n",
       "      <td>7</td>\n",
       "      <td>2015</td>\n",
       "      <td>July</td>\n",
       "      <td>27</td>\n",
       "      <td>1</td>\n",
       "      <td>0</td>\n",
       "      <td>1</td>\n",
       "      <td>1</td>\n",
       "      <td>0.0</td>\n",
       "      <td>0</td>\n",
       "      <td>BB</td>\n",
       "      <td>GBR</td>\n",
       "      <td>Direct</td>\n",
       "      <td>Direct</td>\n",
       "      <td>0</td>\n",
       "      <td>0</td>\n",
       "      <td>0</td>\n",
       "      <td>A</td>\n",
       "      <td>C</td>\n",
       "      <td>0</td>\n",
       "      <td>No Deposit</td>\n",
       "      <td>NaN</td>\n",
       "      <td>NaN</td>\n",
       "      <td>0</td>\n",
       "      <td>Transient</td>\n",
       "      <td>75.0</td>\n",
       "      <td>0</td>\n",
       "      <td>0</td>\n",
       "      <td>Check-Out</td>\n",
       "      <td>2015-07-02</td>\n",
       "    </tr>\n",
       "    <tr>\n",
       "      <th>3</th>\n",
       "      <td>Resort Hotel</td>\n",
       "      <td>0</td>\n",
       "      <td>13</td>\n",
       "      <td>2015</td>\n",
       "      <td>July</td>\n",
       "      <td>27</td>\n",
       "      <td>1</td>\n",
       "      <td>0</td>\n",
       "      <td>1</td>\n",
       "      <td>1</td>\n",
       "      <td>0.0</td>\n",
       "      <td>0</td>\n",
       "      <td>BB</td>\n",
       "      <td>GBR</td>\n",
       "      <td>Corporate</td>\n",
       "      <td>Corporate</td>\n",
       "      <td>0</td>\n",
       "      <td>0</td>\n",
       "      <td>0</td>\n",
       "      <td>A</td>\n",
       "      <td>A</td>\n",
       "      <td>0</td>\n",
       "      <td>No Deposit</td>\n",
       "      <td>304.0</td>\n",
       "      <td>NaN</td>\n",
       "      <td>0</td>\n",
       "      <td>Transient</td>\n",
       "      <td>75.0</td>\n",
       "      <td>0</td>\n",
       "      <td>0</td>\n",
       "      <td>Check-Out</td>\n",
       "      <td>2015-07-02</td>\n",
       "    </tr>\n",
       "    <tr>\n",
       "      <th>4</th>\n",
       "      <td>Resort Hotel</td>\n",
       "      <td>0</td>\n",
       "      <td>14</td>\n",
       "      <td>2015</td>\n",
       "      <td>July</td>\n",
       "      <td>27</td>\n",
       "      <td>1</td>\n",
       "      <td>0</td>\n",
       "      <td>2</td>\n",
       "      <td>2</td>\n",
       "      <td>0.0</td>\n",
       "      <td>0</td>\n",
       "      <td>BB</td>\n",
       "      <td>GBR</td>\n",
       "      <td>Online TA</td>\n",
       "      <td>TA/TO</td>\n",
       "      <td>0</td>\n",
       "      <td>0</td>\n",
       "      <td>0</td>\n",
       "      <td>A</td>\n",
       "      <td>A</td>\n",
       "      <td>0</td>\n",
       "      <td>No Deposit</td>\n",
       "      <td>240.0</td>\n",
       "      <td>NaN</td>\n",
       "      <td>0</td>\n",
       "      <td>Transient</td>\n",
       "      <td>98.0</td>\n",
       "      <td>0</td>\n",
       "      <td>1</td>\n",
       "      <td>Check-Out</td>\n",
       "      <td>2015-07-03</td>\n",
       "    </tr>\n",
       "  </tbody>\n",
       "</table>\n",
       "</div>"
      ],
      "text/plain": [
       "          hotel  is_canceled  lead_time  arrival_date_year arrival_date_month  \\\n",
       "0  Resort Hotel            0        342               2015               July   \n",
       "1  Resort Hotel            0        737               2015               July   \n",
       "2  Resort Hotel            0          7               2015               July   \n",
       "3  Resort Hotel            0         13               2015               July   \n",
       "4  Resort Hotel            0         14               2015               July   \n",
       "\n",
       "   arrival_date_week_number  arrival_date_day_of_month  \\\n",
       "0                        27                          1   \n",
       "1                        27                          1   \n",
       "2                        27                          1   \n",
       "3                        27                          1   \n",
       "4                        27                          1   \n",
       "\n",
       "   stays_in_weekend_nights  stays_in_week_nights  adults  children  babies  \\\n",
       "0                        0                     0       2       0.0       0   \n",
       "1                        0                     0       2       0.0       0   \n",
       "2                        0                     1       1       0.0       0   \n",
       "3                        0                     1       1       0.0       0   \n",
       "4                        0                     2       2       0.0       0   \n",
       "\n",
       "  meal country market_segment distribution_channel  is_repeated_guest  \\\n",
       "0   BB     PRT         Direct               Direct                  0   \n",
       "1   BB     PRT         Direct               Direct                  0   \n",
       "2   BB     GBR         Direct               Direct                  0   \n",
       "3   BB     GBR      Corporate            Corporate                  0   \n",
       "4   BB     GBR      Online TA                TA/TO                  0   \n",
       "\n",
       "   previous_cancellations  previous_bookings_not_canceled reserved_room_type  \\\n",
       "0                       0                               0                  C   \n",
       "1                       0                               0                  C   \n",
       "2                       0                               0                  A   \n",
       "3                       0                               0                  A   \n",
       "4                       0                               0                  A   \n",
       "\n",
       "  assigned_room_type  booking_changes deposit_type  agent  company  \\\n",
       "0                  C                3   No Deposit    NaN      NaN   \n",
       "1                  C                4   No Deposit    NaN      NaN   \n",
       "2                  C                0   No Deposit    NaN      NaN   \n",
       "3                  A                0   No Deposit  304.0      NaN   \n",
       "4                  A                0   No Deposit  240.0      NaN   \n",
       "\n",
       "   days_in_waiting_list customer_type   adr  required_car_parking_spaces  \\\n",
       "0                     0     Transient   0.0                            0   \n",
       "1                     0     Transient   0.0                            0   \n",
       "2                     0     Transient  75.0                            0   \n",
       "3                     0     Transient  75.0                            0   \n",
       "4                     0     Transient  98.0                            0   \n",
       "\n",
       "   total_of_special_requests reservation_status reservation_status_date  \n",
       "0                          0          Check-Out              2015-07-01  \n",
       "1                          0          Check-Out              2015-07-01  \n",
       "2                          0          Check-Out              2015-07-02  \n",
       "3                          0          Check-Out              2015-07-02  \n",
       "4                          1          Check-Out              2015-07-03  "
      ]
     },
     "execution_count": 287,
     "metadata": {},
     "output_type": "execute_result"
    }
   ],
   "source": [
    "df.head()"
   ]
  },
  {
   "cell_type": "markdown",
   "metadata": {},
   "source": [
    "## WRANGLE DATA"
   ]
  },
  {
   "cell_type": "code",
   "execution_count": 288,
   "metadata": {},
   "outputs": [],
   "source": [
    "def wrangle(df):\n",
    "    df = df.copy()\n",
    "    #drop unecessary columns, or columns that seem to have little impact on target\n",
    "    df = df.drop(['company', 'agent','arrival_date_week_number'],axis = 1)\n",
    "    df = df.dropna(axis=0)  \n",
    "    \n",
    "    #set date column to index\n",
    "    #doesn't add any substantial info, and has high cardinality. \n",
    "    df.set_index(pd.to_datetime(df['reservation_status_date']), inplace = True)\n",
    "    df = df.drop(['reservation_status_date'], axis=1)\n",
    "    \n",
    "    \n",
    "    #I am treating cancelations as people who canceled or did not show\n",
    "    #on there arrival date --- it was assumend the hotel would treat \n",
    "    df['reservation_status'] =  df['reservation_status'].replace({'No-Show':'Canceled'})\n",
    "    \n",
    "    #features selected based on feature imporances\n",
    "    features = ['lead_time', 'stays_in_weekend_nights', 'stays_in_week_nights', 'previous_cancellations',\n",
    "                'booking_changes', 'adr', 'required_car_parking_spaces', 'country', 'deposit_type']\n",
    "    return df,features\n",
    "df,features = wrangle(df)\n"
   ]
  },
  {
   "cell_type": "markdown",
   "metadata": {},
   "source": [
    "## TRAIN, VALIDATE, TEST SPLIT"
   ]
  },
  {
   "cell_type": "code",
   "execution_count": 289,
   "metadata": {},
   "outputs": [
    {
     "data": {
      "text/plain": [
       "((21859, 28), (56435, 28), (40604, 28))"
      ]
     },
     "execution_count": 289,
     "metadata": {},
     "output_type": "execute_result"
    }
   ],
   "source": [
    "#get train, validate,and test subsets\n",
    "train = df[df['arrival_date_year']==2015].copy()\n",
    "val = df[df['arrival_date_year']==2016].copy()\n",
    "test = df[df['arrival_date_year'] == 2017].copy()\n",
    "train.shape, val.shape, test.shape"
   ]
  },
  {
   "cell_type": "code",
   "execution_count": 290,
   "metadata": {},
   "outputs": [
    {
     "data": {
      "text/plain": [
       "((21859, 9), (21859,), (56435, 9), (56435,), (40604, 9), (40604,))"
      ]
     },
     "execution_count": 290,
     "metadata": {},
     "output_type": "execute_result"
    }
   ],
   "source": [
    "#seperating X matrices and correspind y vectors\n",
    "target = 'reservation_status'\n",
    "X_train = train[features]\n",
    "y_train = train[target]\n",
    "X_test = test[features]\n",
    "y_test = test[target]\n",
    "X_val= val[features]\n",
    "y_val = val[target]\n",
    "X_train.shape,y_train.shape,X_val.shape, y_val.shape, X_test.shape, y_test.shape"
   ]
  },
  {
   "cell_type": "markdown",
   "metadata": {},
   "source": [
    "## BASELINE"
   ]
  },
  {
   "cell_type": "code",
   "execution_count": 291,
   "metadata": {},
   "outputs": [
    {
     "data": {
      "text/plain": [
       "Check-Out    0.629169\n",
       "Canceled     0.370831\n",
       "Name: reservation_status, dtype: float64"
      ]
     },
     "execution_count": 291,
     "metadata": {},
     "output_type": "execute_result"
    }
   ],
   "source": [
    "#baselines\n",
    "#Training Baseline\n",
    "y_train.value_counts(normalize=True)\n"
   ]
  },
  {
   "cell_type": "code",
   "execution_count": 292,
   "metadata": {},
   "outputs": [
    {
     "data": {
      "text/plain": [
       "Check-Out    0.640064\n",
       "Canceled     0.359936\n",
       "Name: reservation_status, dtype: float64"
      ]
     },
     "execution_count": 292,
     "metadata": {},
     "output_type": "execute_result"
    }
   ],
   "source": [
    "#Validation Baseline\n",
    "y_val.value_counts(normalize=True)\n"
   ]
  },
  {
   "cell_type": "code",
   "execution_count": 293,
   "metadata": {},
   "outputs": [],
   "source": [
    "#instantitate classes\n",
    "\n",
    "from sklearn.ensemble import RandomForestClassifier\n",
    "from sklearn.impute import SimpleImputer\n",
    "import category_encoders as ce\n",
    "import numpy as np\n",
    "from sklearn.ensemble import RandomForestClassifier\n",
    "from category_encoders import OneHotEncoder, OrdinalEncoder\n",
    "from sklearn.pipeline import make_pipeline\n",
    "from sklearn.model_selection import RandomizedSearchCV"
   ]
  },
  {
   "cell_type": "code",
   "execution_count": 294,
   "metadata": {},
   "outputs": [],
   "source": [
    "from sklearn.metrics import plot_confusion_matrix, classification_report\n",
    "from sklearn.metrics import precision_score\n",
    "from sklearn.metrics import recall_score\n",
    "from sklearn.metrics import roc_auc_score\n",
    "from sklearn.metrics import accuracy_score"
   ]
  },
  {
   "cell_type": "markdown",
   "metadata": {},
   "source": [
    "## Model0- Random Tree Forest Classifier"
   ]
  },
  {
   "cell_type": "code",
   "execution_count": 295,
   "metadata": {},
   "outputs": [
    {
     "name": "stdout",
     "output_type": "stream",
     "text": [
      "Fitting 10 folds for each of 10 candidates, totalling 100 fits\n"
     ]
    },
    {
     "name": "stderr",
     "output_type": "stream",
     "text": [
      "[Parallel(n_jobs=-1)]: Using backend LokyBackend with 8 concurrent workers.\n",
      "[Parallel(n_jobs=-1)]: Done  34 tasks      | elapsed:    3.5s\n",
      "[Parallel(n_jobs=-1)]: Done 100 out of 100 | elapsed:   12.4s finished\n"
     ]
    },
    {
     "name": "stdout",
     "output_type": "stream",
     "text": [
      "Cross-validation Best Score 0.8408937046861554\n",
      "Best Estimator: {'randomforestclassifier__n_estimators': 100, 'randomforestclassifier__min_samples_split': 15, 'randomforestclassifier__min_samples_leaf': 2, 'randomforestclassifier__max_features': 5, 'randomforestclassifier__criterion': 'gini'}\n",
      "Best Model Pipeline(steps=[('ordinalencoder',\n",
      "                 OrdinalEncoder(cols=['country', 'deposit_type'],\n",
      "                                mapping=[{'col': 'country',\n",
      "                                          'data_type': dtype('O'),\n",
      "                                          'mapping': PRT     1\n",
      "GBR     2\n",
      "USA     3\n",
      "ESP     4\n",
      "IRL     5\n",
      "       ..\n",
      "GEO    95\n",
      "TMP    96\n",
      "MUS    97\n",
      "ECU    98\n",
      "NaN    -2\n",
      "Length: 99, dtype: int64},\n",
      "                                         {'col': 'deposit_type',\n",
      "                                          'data_type': dtype('O'),\n",
      "                                          'mapping': No Deposit    1\n",
      "Refundable    2\n",
      "Non Refund    3\n",
      "NaN          -2\n",
      "dtype: int64}])),\n",
      "                ('simpleimputer', SimpleImputer()),\n",
      "                ('randomforestclassifier',\n",
      "                 RandomForestClassifier(max_features=5, min_samples_leaf=2,\n",
      "                                        min_samples_split=15, n_jobs=-1,\n",
      "                                        random_state=40))])\n"
     ]
    }
   ],
   "source": [
    "#Build pipeline using RadnomSearchCV\n",
    "from sklearn.model_selection import RandomizedSearchCV, GridSearchCV\n",
    "model0 = make_pipeline(\n",
    "    ce.OrdinalEncoder(),\n",
    "    SimpleImputer(strategy='mean'),\n",
    "    RandomForestClassifier(n_jobs = -1, random_state=40)\n",
    "\n",
    ")\n",
    "\n",
    "param_distributions = { \n",
    "    'randomforestclassifier__n_estimators': [100],\n",
    "    'randomforestclassifier__criterion': ['gini', 'entropy'],\n",
    "    'randomforestclassifier__max_features': [5,10,20],\n",
    "    'randomforestclassifier__min_samples_split': [5,10,15,20],\n",
    "    'randomforestclassifier__min_samples_leaf': [2]\n",
    "}\n",
    "search = RandomizedSearchCV(\n",
    "    model0, \n",
    "    param_distributions = param_distributions,\n",
    "    n_iter = 10,\n",
    "    cv=10,\n",
    "    scoring ='accuracy',\n",
    "    verbose = 1,\n",
    "    return_train_score = True,\n",
    "    n_jobs = -1\n",
    ")\n",
    "\n",
    "search.fit(X_train, y_train)\n",
    "print('Cross-validation Best Score', search.best_score_)\n",
    "print('Best Estimator:' ,search.best_params_)\n",
    "print('Best Model', search.best_estimator_)"
   ]
  },
  {
   "cell_type": "code",
   "execution_count": 296,
   "metadata": {},
   "outputs": [
    {
     "data": {
      "text/plain": [
       "Pipeline(steps=[('ordinalencoder',\n",
       "                 OrdinalEncoder(cols=['country', 'deposit_type'],\n",
       "                                mapping=[{'col': 'country',\n",
       "                                          'data_type': dtype('O'),\n",
       "                                          'mapping': PRT     1\n",
       "GBR     2\n",
       "USA     3\n",
       "ESP     4\n",
       "IRL     5\n",
       "       ..\n",
       "GEO    95\n",
       "TMP    96\n",
       "MUS    97\n",
       "ECU    98\n",
       "NaN    -2\n",
       "Length: 99, dtype: int64},\n",
       "                                         {'col': 'deposit_type',\n",
       "                                          'data_type': dtype('O'),\n",
       "                                          'mapping': No Deposit    1\n",
       "Refundable    2\n",
       "Non Refund    3\n",
       "NaN          -2\n",
       "dtype: int64}])),\n",
       "                ('simpleimputer', SimpleImputer()),\n",
       "                ('randomforestclassifier',\n",
       "                 RandomForestClassifier(max_features=5, min_samples_leaf=2,\n",
       "                                        min_samples_split=15, n_jobs=-1,\n",
       "                                        random_state=40))])"
      ]
     },
     "execution_count": 296,
     "metadata": {},
     "output_type": "execute_result"
    }
   ],
   "source": [
    "model0 = search.best_estimator_\n",
    "model0"
   ]
  },
  {
   "cell_type": "code",
   "execution_count": 297,
   "metadata": {},
   "outputs": [],
   "source": [
    "y_pred0 = model0.predict(X_val)\n",
    "y_pred_probab0 = model0.predict_proba(X_val)"
   ]
  },
  {
   "cell_type": "code",
   "execution_count": 298,
   "metadata": {},
   "outputs": [
    {
     "name": "stdout",
     "output_type": "stream",
     "text": [
      "Random Forest Classifier Classification Report\n",
      "              precision    recall  f1-score   support\n",
      "\n",
      "    Canceled       0.86      0.45      0.59     20313\n",
      "   Check-Out       0.76      0.96      0.85     36122\n",
      "\n",
      "    accuracy                           0.78     56435\n",
      "   macro avg       0.81      0.71      0.72     56435\n",
      "weighted avg       0.79      0.78      0.76     56435\n",
      "\n"
     ]
    }
   ],
   "source": [
    "print('Random Forest Classifier Classification Report')\n",
    "print(classification_report(y_val, y_pred0))"
   ]
  },
  {
   "cell_type": "code",
   "execution_count": 299,
   "metadata": {},
   "outputs": [
    {
     "data": {
      "text/plain": [
       "0.753435439322338"
      ]
     },
     "execution_count": 299,
     "metadata": {},
     "output_type": "execute_result"
    }
   ],
   "source": [
    "roc_auc_score(y_val,y_pred_probab0[:,1])"
   ]
  },
  {
   "cell_type": "code",
   "execution_count": 300,
   "metadata": {},
   "outputs": [
    {
     "data": {
      "text/plain": [
       "0.77669885709223"
      ]
     },
     "execution_count": 300,
     "metadata": {},
     "output_type": "execute_result"
    }
   ],
   "source": [
    "accuracy_score(y_val,y_pred0)"
   ]
  },
  {
   "cell_type": "markdown",
   "metadata": {},
   "source": [
    "## Model1 - XGBOOST "
   ]
  },
  {
   "cell_type": "markdown",
   "metadata": {},
   "source": [
    "Run XGBoost w/ Early Stopping to prevent overfitting and optimize n_estimators."
   ]
  },
  {
   "cell_type": "code",
   "execution_count": 301,
   "metadata": {},
   "outputs": [
    {
     "data": {
      "text/plain": [
       "XGBClassifier(base_score=0.5, booster='gbtree', colsample_bylevel=1,\n",
       "              colsample_bynode=1, colsample_bytree=1, gamma=0, gpu_id=-1,\n",
       "              importance_type='gain', interaction_constraints='',\n",
       "              learning_rate=0.5, max_delta_step=0, max_depth=5,\n",
       "              min_child_weight=1, missing=nan, monotone_constraints='()',\n",
       "              n_estimators=20, n_jobs=-1, num_parallel_tree=1, random_state=0,\n",
       "              reg_alpha=0, reg_lambda=1, scale_pos_weight=1, subsample=1,\n",
       "              tree_method='exact', validate_parameters=1, verbosity=None)"
      ]
     },
     "execution_count": 301,
     "metadata": {},
     "output_type": "execute_result"
    }
   ],
   "source": [
    "from xgboost.sklearn import XGBClassifier\n",
    "encoder = ce.OrdinalEncoder()\n",
    "X_train_encoded = encoder.fit_transform(X_train)\n",
    "X_val_encoded = encoder.transform(X_val)\n",
    "\n",
    "model1 = XGBClassifier(\n",
    "        n_estimators = 20, \n",
    "        max_depth = 5,\n",
    "        learning_rate = .5,\n",
    "        n_jobs = -1\n",
    "\n",
    ")\n",
    "\n",
    "\n",
    "model1.fit(X_train_encoded, y_train)"
   ]
  },
  {
   "cell_type": "markdown",
   "metadata": {},
   "source": [
    "## Evaluation Metrics\n"
   ]
  },
  {
   "cell_type": "code",
   "execution_count": 302,
   "metadata": {},
   "outputs": [
    {
     "data": {
      "text/plain": [
       "array(['Canceled', 'Check-Out'], dtype=object)"
      ]
     },
     "execution_count": 302,
     "metadata": {},
     "output_type": "execute_result"
    }
   ],
   "source": [
    "#Helps me identify the order of the class labels in the target\n",
    "model1.classes_ "
   ]
  },
  {
   "cell_type": "code",
   "execution_count": 303,
   "metadata": {},
   "outputs": [],
   "source": [
    "y_pred1 = model1.predict(X_val_encoded)\n",
    "y_pred_probab1 = model1.predict_proba(X_val_encoded)"
   ]
  },
  {
   "cell_type": "code",
   "execution_count": 304,
   "metadata": {},
   "outputs": [
    {
     "name": "stdout",
     "output_type": "stream",
     "text": [
      "              precision    recall  f1-score   support\n",
      "\n",
      "    Canceled       0.88      0.43      0.57     20313\n",
      "   Check-Out       0.75      0.97      0.84     36122\n",
      "\n",
      "    accuracy                           0.77     56435\n",
      "   macro avg       0.81      0.70      0.71     56435\n",
      "weighted avg       0.79      0.77      0.75     56435\n",
      "\n"
     ]
    }
   ],
   "source": [
    "print(classification_report(y_val, y_pred1))"
   ]
  },
  {
   "cell_type": "code",
   "execution_count": 305,
   "metadata": {},
   "outputs": [
    {
     "data": {
      "text/plain": [
       "0.7782593775553881"
      ]
     },
     "execution_count": 305,
     "metadata": {},
     "output_type": "execute_result"
    }
   ],
   "source": [
    "roc_auc_score(y_val,y_pred_probab1[:,1])"
   ]
  },
  {
   "cell_type": "code",
   "execution_count": 306,
   "metadata": {},
   "outputs": [
    {
     "data": {
      "text/plain": [
       "0.7716842385044742"
      ]
     },
     "execution_count": 306,
     "metadata": {},
     "output_type": "execute_result"
    }
   ],
   "source": [
    "accuracy_score(y_val,y_pred1)"
   ]
  },
  {
   "cell_type": "markdown",
   "metadata": {},
   "source": [
    "## ROCAUC Curve for Model 0 and Model1"
   ]
  },
  {
   "cell_type": "code",
   "execution_count": 307,
   "metadata": {},
   "outputs": [
    {
     "data": {
      "image/png": "[encoded data removed]",
      "text/plain": [
       "<Figure size 432x288 with 1 Axes>"
      ]
     },
     "metadata": {
      "needs_background": "light"
     },
     "output_type": "display_data"
    }
   ],
   "source": [
    "\n",
    "probs1 = model1.predict_proba(X_val_encoded)\n",
    "preds1 = probs1[:,1]\n",
    "fpr1, tpr1, threshold = metrics.roc_curve(y_val, preds1, pos_label='Check-Out')\n",
    "roc_auc1 = metrics.auc(fpr1, tpr1)\n",
    "\n",
    "probs0 = model0.predict_proba(X_val)\n",
    "preds0 = probs0[:,1]\n",
    "fpr0, tpr0, threshold = metrics.roc_curve(y_val, preds0, pos_label ='Check-Out')\n",
    "roc_auc0 = metrics.auc(fpr0, tpr0)\n",
    "\n",
    "\n",
    "\n",
    "# method I: plt\n",
    "import matplotlib.pyplot as plt\n",
    "plt.title('Receiver Operating Characteristic')\n",
    "plt.plot(fpr1, tpr1, 'b', label = 'AUC for XGBOOST = %0.2f' % roc_auc1)\n",
    "plt.plot(fpr0, tpr0, 'r', label = 'AUC for RandomForest = %0.2f' % roc_auc0)\n",
    "plt.legend(loc = 'lower right')\n",
    "plt.plot([0, 1], [0, 1],'r--')\n",
    "plt.xlim([0, 1])\n",
    "plt.ylim([0, 1])\n",
    "plt.ylabel('True Positive Rate')\n",
    "plt.xlabel('False Positive Rate')\n",
    "plt.show()"
   ]
  },
  {
   "cell_type": "code",
   "execution_count": null,
   "metadata": {},
   "outputs": [],
   "source": []
  },
  {
   "cell_type": "code",
   "execution_count": 308,
   "metadata": {},
   "outputs": [
    {
     "name": "stdout",
     "output_type": "stream",
     "text": [
      "Requirement already satisfied: pdpbox in /Users/johnrivera/.virtualenvs/jupyter/lib/python3.7/site-packages (0.2.0)\n",
      "Requirement already satisfied: scikit-learn in /Users/johnrivera/.virtualenvs/jupyter/lib/python3.7/site-packages (from pdpbox) (0.23.1)\n",
      "Requirement already satisfied: numpy in /Users/johnrivera/.virtualenvs/jupyter/lib/python3.7/site-packages (from pdpbox) (1.19.0)\n",
      "Requirement already satisfied: pandas in /Users/johnrivera/.virtualenvs/jupyter/lib/python3.7/site-packages (from pdpbox) (1.0.5)\n",
      "Requirement already satisfied: scipy in /Users/johnrivera/.virtualenvs/jupyter/lib/python3.7/site-packages (from pdpbox) (1.5.1)\n",
      "Requirement already satisfied: joblib in /Users/johnrivera/.virtualenvs/jupyter/lib/python3.7/site-packages (from pdpbox) (0.16.0)\n",
      "Requirement already satisfied: matplotlib>=2.1.2 in /Users/johnrivera/.virtualenvs/jupyter/lib/python3.7/site-packages (from pdpbox) (3.2.2)\n",
      "Requirement already satisfied: psutil in /Users/johnrivera/.virtualenvs/jupyter/lib/python3.7/site-packages (from pdpbox) (5.7.2)\n",
      "Requirement already satisfied: threadpoolctl>=2.0.0 in /Users/johnrivera/.virtualenvs/jupyter/lib/python3.7/site-packages (from scikit-learn->pdpbox) (2.1.0)\n",
      "Requirement already satisfied: pytz>=2017.2 in /Users/johnrivera/.virtualenvs/jupyter/lib/python3.7/site-packages (from pandas->pdpbox) (2020.1)\n",
      "Requirement already satisfied: python-dateutil>=2.6.1 in /Users/johnrivera/.virtualenvs/jupyter/lib/python3.7/site-packages (from pandas->pdpbox) (2.8.1)\n",
      "Requirement already satisfied: pyparsing!=2.0.4,!=2.1.2,!=2.1.6,>=2.0.1 in /Users/johnrivera/.virtualenvs/jupyter/lib/python3.7/site-packages (from matplotlib>=2.1.2->pdpbox) (2.4.7)\n",
      "Requirement already satisfied: cycler>=0.10 in /Users/johnrivera/.virtualenvs/jupyter/lib/python3.7/site-packages (from matplotlib>=2.1.2->pdpbox) (0.10.0)\n",
      "Requirement already satisfied: kiwisolver>=1.0.1 in /Users/johnrivera/.virtualenvs/jupyter/lib/python3.7/site-packages (from matplotlib>=2.1.2->pdpbox) (1.2.0)\n",
      "Requirement already satisfied: six>=1.5 in /Users/johnrivera/.virtualenvs/jupyter/lib/python3.7/site-packages (from python-dateutil>=2.6.1->pandas->pdpbox) (1.15.0)\n"
     ]
    }
   ],
   "source": [
    "!pip install pdpbox"
   ]
  },
  {
   "cell_type": "markdown",
   "metadata": {},
   "source": [
    "## PDP PLOTS"
   ]
  },
  {
   "cell_type": "code",
   "execution_count": 309,
   "metadata": {},
   "outputs": [
    {
     "name": "stdout",
     "output_type": "stream",
     "text": [
      "[{'col': 'country', 'mapping': PRT     1\n",
      "GBR     2\n",
      "USA     3\n",
      "ESP     4\n",
      "IRL     5\n",
      "       ..\n",
      "GEO    95\n",
      "TMP    96\n",
      "MUS    97\n",
      "ECU    98\n",
      "NaN    -2\n",
      "Length: 99, dtype: int64, 'data_type': dtype('O')}, {'col': 'deposit_type', 'mapping': No Deposit    1\n",
      "Refundable    2\n",
      "Non Refund    3\n",
      "NaN          -2\n",
      "dtype: int64, 'data_type': dtype('O')}]\n"
     ]
    }
   ],
   "source": [
    "#Looking at what the encodings signify\n",
    "pd.options.display.max_rows = 50\n",
    "print(encoder.mapping)"
   ]
  },
  {
   "cell_type": "code",
   "execution_count": 310,
   "metadata": {},
   "outputs": [
    {
     "data": {
      "text/html": [
       "['lead_time', 'stays_in_weekend_nights', 'stays_in_week_nights', 'previous_cancellations', 'booking_changes', 'adr', 'required_car_parking_spaces', 'country', 'deposit_type']"
      ],
      "text/plain": [
       "['lead_time',\n",
       " 'stays_in_weekend_nights',\n",
       " 'stays_in_week_nights',\n",
       " 'previous_cancellations',\n",
       " 'booking_changes',\n",
       " 'adr',\n",
       " 'required_car_parking_spaces',\n",
       " 'country',\n",
       " 'deposit_type']"
      ]
     },
     "execution_count": 310,
     "metadata": {},
     "output_type": "execute_result"
    }
   ],
   "source": [
    "feature_names1 = X_val.columns.tolist()\n",
    "feature_names1"
   ]
  },
  {
   "cell_type": "code",
   "execution_count": 311,
   "metadata": {},
   "outputs": [],
   "source": [
    "\n",
    "from pdpbox.pdp import pdp_isolate, pdp_plot\n",
    "pdp_feature = 'country'\n",
    "isolated = pdp_isolate(model=model1,\n",
    "        dataset=X_val_encoded,\n",
    "        model_features=feature_names1,\n",
    "        feature=pdp_feature\n",
    "    )"
   ]
  },
  {
   "cell_type": "code",
   "execution_count": 312,
   "metadata": {},
   "outputs": [],
   "source": [
    "pdp_plot;"
   ]
  },
  {
   "cell_type": "code",
   "execution_count": 313,
   "metadata": {},
   "outputs": [
    {
     "data": {
      "image/png": "[encoded data removed]",
      "text/plain": [
       "<Figure size 1080x684 with 2 Axes>"
      ]
     },
     "metadata": {
      "needs_background": "light"
     },
     "output_type": "display_data"
    }
   ],
   "source": [
    "pdp_plot(isolated, feature_name= pdp_feature);"
   ]
  },
  {
   "cell_type": "code",
   "execution_count": 314,
   "metadata": {},
   "outputs": [],
   "source": [
    "pdp_feature2 = 'deposit_type'\n",
    "isolated = pdp_isolate(\n",
    "    model=model1,\n",
    "    dataset=X_val_encoded,\n",
    "    model_features=feature_names1,\n",
    "    feature=pdp_feature2\n",
    "\n",
    ")"
   ]
  },
  {
   "cell_type": "code",
   "execution_count": 315,
   "metadata": {},
   "outputs": [
    {
     "data": {
      "image/png": "[encoded data removed]",
      "text/plain": [
       "<Figure size 1080x684 with 2 Axes>"
      ]
     },
     "metadata": {
      "needs_background": "light"
     },
     "output_type": "display_data"
    }
   ],
   "source": [
    "pdp_plot(isolated, feature_name= pdp_feature2);"
   ]
  },
  {
   "cell_type": "markdown",
   "metadata": {},
   "source": [
    "## PDP 2 FEATURES INTERACTION "
   ]
  },
  {
   "cell_type": "code",
   "execution_count": 316,
   "metadata": {},
   "outputs": [],
   "source": [
    "pdp_two_features = ['deposit_type', 'country']"
   ]
  },
  {
   "cell_type": "code",
   "execution_count": 317,
   "metadata": {},
   "outputs": [],
   "source": [
    "from pdpbox.pdp import pdp_interact, pdp_interact_plot\n",
    "interaction = pdp_interact(\n",
    "        model = model1,\n",
    "        dataset = X_val_encoded,\n",
    "        model_features=X_val_encoded.columns,\n",
    "        features = pdp_two_features\n",
    ")"
   ]
  },
  {
   "cell_type": "code",
   "execution_count": 318,
   "metadata": {},
   "outputs": [
    {
     "data": {
      "text/plain": [
       "(<Figure size 540x684 with 3 Axes>,\n",
       " {'title_ax': <matplotlib.axes._subplots.AxesSubplot at 0x130be25c0>,\n",
       "  'pdp_inter_ax': <matplotlib.axes._subplots.AxesSubplot at 0x12ed78400>})"
      ]
     },
     "execution_count": 318,
     "metadata": {},
     "output_type": "execute_result"
    },
    {
     "data": {
      "image/png": "[encoded data removed]",
      "text/plain": [
       "<Figure size 540x684 with 3 Axes>"
      ]
     },
     "metadata": {
      "needs_background": "light"
     },
     "output_type": "display_data"
    }
   ],
   "source": [
    "pdp_interact_plot(interaction, plot_type='grid', feature_names=pdp_two_features)"
   ]
  },
  {
   "cell_type": "markdown",
   "metadata": {},
   "source": [
    "## Plotly Dash App Steps"
   ]
  },
  {
   "cell_type": "code",
   "execution_count": 319,
   "metadata": {},
   "outputs": [],
   "source": [
    "\n",
    "import joblib\n",
    "from joblib import dump"
   ]
  },
  {
   "cell_type": "code",
   "execution_count": 320,
   "metadata": {},
   "outputs": [
    {
     "name": "stdout",
     "output_type": "stream",
     "text": [
      "joblib==0.16.0\n",
      "scikit-learn==0.23.1\n",
      "category_encoders==2.2.2\n",
      "xgboost==1.1.0\n"
     ]
    }
   ],
   "source": [
    "#Check Versions libary versions used\n",
    "print(f'joblib=={joblib.__version__}')\n",
    "print(f'scikit-learn=={sklearn.__version__}')\n",
    "print(f'category_encoders=={ce.__version__}')\n",
    "print(f'xgboost=={xgboost.__version__}')"
   ]
  },
  {
   "cell_type": "code",
   "execution_count": 321,
   "metadata": {},
   "outputs": [
    {
     "name": "stdout",
     "output_type": "stream",
     "text": [
      "-rw-r--r--  1 johnrivera  staff    18K Jul 28 12:45 model3.joblib\n"
     ]
    }
   ],
   "source": [
    "!ls -lh model3.joblib"
   ]
  },
  {
   "cell_type": "code",
   "execution_count": 322,
   "metadata": {},
   "outputs": [
    {
     "data": {
      "text/plain": [
       "XGBClassifier(base_score=0.5, booster='gbtree', colsample_bylevel=1,\n",
       "              colsample_bynode=1, colsample_bytree=1, gamma=0, gpu_id=-1,\n",
       "              importance_type='gain', interaction_constraints='',\n",
       "              learning_rate=0.5, max_delta_step=0, max_depth=5,\n",
       "              min_child_weight=1, missing=nan, monotone_constraints='()',\n",
       "              n_estimators=20, n_jobs=-1, num_parallel_tree=1, random_state=0,\n",
       "              reg_alpha=0, reg_lambda=1, scale_pos_weight=1, subsample=1,\n",
       "              tree_method='exact', validate_parameters=1, verbosity=None)"
      ]
     },
     "execution_count": 322,
     "metadata": {},
     "output_type": "execute_result"
    }
   ],
   "source": [
    "#Checking xgboost format\n",
    "model1"
   ]
  },
  {
   "cell_type": "code",
   "execution_count": 323,
   "metadata": {},
   "outputs": [
    {
     "data": {
      "text/plain": [
       "Pipeline(steps=[('ordinalencoder', OrdinalEncoder()),\n",
       "                ('xgbclassifier',\n",
       "                 XGBClassifier(base_score=0.5, booster='gbtree',\n",
       "                               colsample_bylevel=1, colsample_bynode=1,\n",
       "                               colsample_bytree=1, gamma=0, gpu_id=-1,\n",
       "                               importance_type='gain',\n",
       "                               interaction_constraints='', learning_rate=0.5,\n",
       "                               max_delta_step=0, max_depth=5,\n",
       "                               min_child_weight=1, missing=nan,\n",
       "                               monotone_constraints='()', n_estimators=20,\n",
       "                               n_jobs=-1, num_parallel_tree=1, random_state=0,\n",
       "                               reg_alpha=0, reg_lambda=1, scale_pos_weight=1,\n",
       "                               subsample=1, tree_method='exact',\n",
       "                               validate_parameters=1, verbosity=None))])"
      ]
     },
     "execution_count": 323,
     "metadata": {},
     "output_type": "execute_result"
    }
   ],
   "source": [
    "#Plug model1 into make_pipeline and fit it to orginal X_train,y_train\n",
    "#Otherwise I encounter difficulties with dashapp\n",
    "#Dash app uses scikitlearn pipline format\n",
    "#Model3 is the same as model1, it's just in make_pipeline format\n",
    "#Encoding happens inside the pipeline as well\n",
    "model3 = make_pipeline(ce.OrdinalEncoder(),model1)\n",
    "model3"
   ]
  },
  {
   "cell_type": "code",
   "execution_count": 324,
   "metadata": {},
   "outputs": [
    {
     "data": {
      "text/html": [
       "['model0.joblib']"
      ],
      "text/plain": [
       "['model0.joblib']"
      ]
     },
     "execution_count": 324,
     "metadata": {},
     "output_type": "execute_result"
    }
   ],
   "source": [
    "#Originally I was working with my xgboost for my dash app, however\n",
    "#When I upload to heroku, I get problems with xgboost\n",
    "#I change from model3 to model0 so things ran smoothly in heroku\n",
    "#Xgboost works locally though\n",
    "dump(model0, 'model0.joblib', compress=True)"
   ]
  },
  {
   "cell_type": "code",
   "execution_count": 325,
   "metadata": {},
   "outputs": [
    {
     "data": {
      "text/plain": [
       "No Deposit    18202\n",
       "Non Refund     3653\n",
       "Refundable        4\n",
       "Name: deposit_type, dtype: int64"
      ]
     },
     "execution_count": 325,
     "metadata": {},
     "output_type": "execute_result"
    }
   ],
   "source": [
    "X_train['deposit_type'].value_counts()"
   ]
  },
  {
   "cell_type": "code",
   "execution_count": 326,
   "metadata": {},
   "outputs": [],
   "source": [
    "\n",
    "def predict(lead_time,stays_in_weekend_nights,stays_in_week_nights,\n",
    "               previous_cancellations,booking_changes,adr,required_car_parking_spaces,country,deposit_type):\n",
    "    df = pd.DataFrame(\n",
    "        columns= ['lead_time','stays_in_weekend_nights','stays_in_week_nights',\n",
    "                  'previous_cancellations','booking_changes','adr','required_car_parking_spaces',\n",
    "                  'country','deposit_type']\n",
    "            \n",
    "            ,\n",
    "        data=[[lead_time,stays_in_weekend_nights,stays_in_week_nights,\n",
    "               previous_cancellations,booking_changes,adr,required_car_parking_spaces,country,deposit_type]]\n",
    "    )\n",
    "    y_pred_probab0 = round(model0.predict_proba(df)[0][0],2)\n",
    "    y_pred = model0.predict(df)[0]\n",
    "    print(f' Probabillity that person checked-out {y_pred_probab0}%')\n",
    "    return f'Person {y_pred} Booking.'\n"
   ]
  },
  {
   "cell_type": "code",
   "execution_count": 327,
   "metadata": {},
   "outputs": [
    {
     "name": "stdout",
     "output_type": "stream",
     "text": [
      " Probabillity that person checked-out 0.33%\n"
     ]
    },
    {
     "data": {
      "text/plain": [
       "'Person Check-Out Booking.'"
      ]
     },
     "execution_count": 327,
     "metadata": {},
     "output_type": "execute_result"
    }
   ],
   "source": [
    "predict(7,20,20,0,2,10,0,'USA','Non Refund')"
   ]
  },
  {
   "cell_type": "code",
   "execution_count": 328,
   "metadata": {},
   "outputs": [],
   "source": [
    "from sklearn.model_selection import train_test_split\n",
    "X = np.array([[1,4],[2,6],[4,6],[7,8]])\n",
    "y = np.array([0,1,3,4])\n",
    "A_train,A_test,b_train,b_test = train_test_split(X,y, test_size=.2)"
   ]
  },
  {
   "cell_type": "code",
   "execution_count": 329,
   "metadata": {},
   "outputs": [
    {
     "name": "stdout",
     "output_type": "stream",
     "text": [
      "joblib==0.16.0\n",
      "scikit-learn==0.23.1\n",
      "category_encoders==2.2.2\n",
      "xgboost==1.1.0\n"
     ]
    }
   ],
   "source": [
    "print(f'joblib=={joblib.__version__}')\n",
    "print(f'scikit-learn=={sklearn.__version__}')\n",
    "print(f'category_encoders=={ce.__version__}')\n",
    "print(f'xgboost=={xgboost.__version__}')\n"
   ]
  },
  {
   "cell_type": "code",
   "execution_count": 330,
   "metadata": {},
   "outputs": [
    {
     "data": {
      "text/html": [
       "[{'label': 'PRT', 'value': 'PRT'}, {'label': 'GBR', 'value': 'GBR'}, {'label': 'FRA', 'value': 'FRA'}, {'label': 'ESP', 'value': 'ESP'}, {'label': 'DEU', 'value': 'DEU'}, {'label': 'ITA', 'value': 'ITA'}, {'label': 'IRL', 'value': 'IRL'}, {'label': 'BEL', 'value': 'BEL'}, {'label': 'BRA', 'value': 'BRA'}, {'label': 'NLD', 'value': 'NLD'}, {'label': 'USA', 'value': 'USA'}, {'label': 'CHE', 'value': 'CHE'}, {'label': 'CN', 'value': 'CN'}, {'label': 'AUT', 'value': 'AUT'}, {'label': 'SWE', 'value': 'SWE'}, {'label': 'CHN', 'value': 'CHN'}, {'label': 'POL', 'value': 'POL'}, {'label': 'ISR', 'value': 'ISR'}, {'label': 'RUS', 'value': 'RUS'}, {'label': 'NOR', 'value': 'NOR'}, {'label': 'ROU', 'value': 'ROU'}, {'label': 'FIN', 'value': 'FIN'}, {'label': 'DNK', 'value': 'DNK'}, {'label': 'AUS', 'value': 'AUS'}, {'label': 'AGO', 'value': 'AGO'}, {'label': 'LUX', 'value': 'LUX'}, {'label': 'MAR', 'value': 'MAR'}, {'label': 'TUR', 'value': 'TUR'}, {'label': 'HUN', 'value': 'HUN'}, {'label': 'ARG', 'value': 'ARG'}, {'label': 'JPN', 'value': 'JPN'}, {'label': 'CZE', 'value': 'CZE'}, {'label': 'IND', 'value': 'IND'}, {'label': 'KOR', 'value': 'KOR'}, {'label': 'GRC', 'value': 'GRC'}, {'label': 'DZA', 'value': 'DZA'}, {'label': 'SRB', 'value': 'SRB'}, {'label': 'HRV', 'value': 'HRV'}, {'label': 'MEX', 'value': 'MEX'}, {'label': 'IRN', 'value': 'IRN'}, {'label': 'EST', 'value': 'EST'}, {'label': 'LTU', 'value': 'LTU'}, {'label': 'ZAF', 'value': 'ZAF'}, {'label': 'BGR', 'value': 'BGR'}, {'label': 'NZL', 'value': 'NZL'}, {'label': 'COL', 'value': 'COL'}, {'label': 'UKR', 'value': 'UKR'}, {'label': 'MOZ', 'value': 'MOZ'}, {'label': 'CHL', 'value': 'CHL'}, {'label': 'SVK', 'value': 'SVK'}, {'label': 'THA', 'value': 'THA'}, {'label': 'SVN', 'value': 'SVN'}, {'label': 'ISL', 'value': 'ISL'}, {'label': 'LVA', 'value': 'LVA'}, {'label': 'TWN', 'value': 'TWN'}, {'label': 'CYP', 'value': 'CYP'}, {'label': 'ARE', 'value': 'ARE'}, {'label': 'SAU', 'value': 'SAU'}, {'label': 'PHL', 'value': 'PHL'}, {'label': 'TUN', 'value': 'TUN'}, {'label': 'SGP', 'value': 'SGP'}, {'label': 'IDN', 'value': 'IDN'}, {'label': 'NGA', 'value': 'NGA'}, {'label': 'URY', 'value': 'URY'}, {'label': 'EGY', 'value': 'EGY'}, {'label': 'LBN', 'value': 'LBN'}, {'label': 'PER', 'value': 'PER'}, {'label': 'HKG', 'value': 'HKG'}, {'label': 'MYS', 'value': 'MYS'}, {'label': 'ECU', 'value': 'ECU'}, {'label': 'VEN', 'value': 'VEN'}, {'label': 'BLR', 'value': 'BLR'}, {'label': 'CPV', 'value': 'CPV'}, {'label': 'GEO', 'value': 'GEO'}, {'label': 'JOR', 'value': 'JOR'}, {'label': 'KAZ', 'value': 'KAZ'}, {'label': 'CRI', 'value': 'CRI'}, {'label': 'OMN', 'value': 'OMN'}, {'label': 'MLT', 'value': 'MLT'}, {'label': 'GIB', 'value': 'GIB'}, {'label': 'AZE', 'value': 'AZE'}, {'label': 'MAC', 'value': 'MAC'}, {'label': 'KWT', 'value': 'KWT'}, {'label': 'QAT', 'value': 'QAT'}, {'label': 'PAK', 'value': 'PAK'}, {'label': 'DOM', 'value': 'DOM'}, {'label': 'IRQ', 'value': 'IRQ'}, {'label': 'BIH', 'value': 'BIH'}, {'label': 'PRI', 'value': 'PRI'}, {'label': 'BGD', 'value': 'BGD'}, {'label': 'MDV', 'value': 'MDV'}, {'label': 'ALB', 'value': 'ALB'}, {'label': 'SEN', 'value': 'SEN'}, {'label': 'BOL', 'value': 'BOL'}, {'label': 'CMR', 'value': 'CMR'}, {'label': 'MKD', 'value': 'MKD'}, {'label': 'PAN', 'value': 'PAN'}, {'label': 'GNB', 'value': 'GNB'}, {'label': 'TJK', 'value': 'TJK'}, {'label': 'VNM', 'value': 'VNM'}, {'label': 'JEY', 'value': 'JEY'}, {'label': 'LBY', 'value': 'LBY'}, {'label': 'ARM', 'value': 'ARM'}, {'label': 'CUB', 'value': 'CUB'}, {'label': 'AND', 'value': 'AND'}, {'label': 'MUS', 'value': 'MUS'}, {'label': 'LKA', 'value': 'LKA'}, {'label': 'KEN', 'value': 'KEN'}, {'label': 'CIV', 'value': 'CIV'}, {'label': 'JAM', 'value': 'JAM'}, {'label': 'FRO', 'value': 'FRO'}, {'label': 'BHR', 'value': 'BHR'}, {'label': 'MNE', 'value': 'MNE'}, {'label': 'TZA', 'value': 'TZA'}, {'label': 'SUR', 'value': 'SUR'}, {'label': 'CAF', 'value': 'CAF'}, {'label': 'PRY', 'value': 'PRY'}, {'label': 'UZB', 'value': 'UZB'}, {'label': 'GAB', 'value': 'GAB'}, {'label': 'ZWE', 'value': 'ZWE'}, {'label': 'BRB', 'value': 'BRB'}, {'label': 'MCO', 'value': 'MCO'}, {'label': 'GHA', 'value': 'GHA'}, {'label': 'GTM', 'value': 'GTM'}, {'label': 'SYR', 'value': 'SYR'}, {'label': 'ETH', 'value': 'ETH'}, {'label': 'LIE', 'value': 'LIE'}, {'label': 'BEN', 'value': 'BEN'}, {'label': 'TMP', 'value': 'TMP'}, {'label': 'GGY', 'value': 'GGY'}, {'label': 'MYT', 'value': 'MYT'}, {'label': 'LAO', 'value': 'LAO'}, {'label': 'GLP', 'value': 'GLP'}, {'label': 'ZMB', 'value': 'ZMB'}, {'label': 'KHM', 'value': 'KHM'}, {'label': 'UGA', 'value': 'UGA'}, {'label': 'MWI', 'value': 'MWI'}, {'label': 'KNA', 'value': 'KNA'}, {'label': 'TGO', 'value': 'TGO'}, {'label': 'ATA', 'value': 'ATA'}, {'label': 'STP', 'value': 'STP'}, {'label': 'SLV', 'value': 'SLV'}, {'label': 'COM', 'value': 'COM'}, {'label': 'SYC', 'value': 'SYC'}, {'label': 'IMN', 'value': 'IMN'}, {'label': 'ABW', 'value': 'ABW'}, {'label': 'RWA', 'value': 'RWA'}, {'label': 'BDI', 'value': 'BDI'}, {'label': 'NPL', 'value': 'NPL'}, {'label': 'SDN', 'value': 'SDN'}, {'label': 'SLE', 'value': 'SLE'}, {'label': 'BHS', 'value': 'BHS'}, {'label': 'MMR', 'value': 'MMR'}, {'label': 'LCA', 'value': 'LCA'}, {'label': 'AIA', 'value': 'AIA'}, {'label': 'MDG', 'value': 'MDG'}, {'label': 'KIR', 'value': 'KIR'}, {'label': 'ASM', 'value': 'ASM'}, {'label': 'NAM', 'value': 'NAM'}, {'label': 'CYM', 'value': 'CYM'}, {'label': 'VGB', 'value': 'VGB'}, {'label': 'BWA', 'value': 'BWA'}, {'label': 'PLW', 'value': 'PLW'}, {'label': 'BFA', 'value': 'BFA'}, {'label': 'SMR', 'value': 'SMR'}, {'label': 'PYF', 'value': 'PYF'}, {'label': 'NCL', 'value': 'NCL'}, {'label': 'ATF', 'value': 'ATF'}, {'label': 'MLI', 'value': 'MLI'}, {'label': 'FJI', 'value': 'FJI'}, {'label': 'NIC', 'value': 'NIC'}, {'label': 'UMI', 'value': 'UMI'}, {'label': 'DJI', 'value': 'DJI'}, {'label': 'HND', 'value': 'HND'}, {'label': 'MRT', 'value': 'MRT'}, {'label': 'DMA', 'value': 'DMA'}, {'label': 'GUY', 'value': 'GUY'}]"
      ],
      "text/plain": [
       "[{'label': 'PRT', 'value': 'PRT'},\n",
       " {'label': 'GBR', 'value': 'GBR'},\n",
       " {'label': 'FRA', 'value': 'FRA'},\n",
       " {'label': 'ESP', 'value': 'ESP'},\n",
       " {'label': 'DEU', 'value': 'DEU'},\n",
       " {'label': 'ITA', 'value': 'ITA'},\n",
       " {'label': 'IRL', 'value': 'IRL'},\n",
       " {'label': 'BEL', 'value': 'BEL'},\n",
       " {'label': 'BRA', 'value': 'BRA'},\n",
       " {'label': 'NLD', 'value': 'NLD'},\n",
       " {'label': 'USA', 'value': 'USA'},\n",
       " {'label': 'CHE', 'value': 'CHE'},\n",
       " {'label': 'CN', 'value': 'CN'},\n",
       " {'label': 'AUT', 'value': 'AUT'},\n",
       " {'label': 'SWE', 'value': 'SWE'},\n",
       " {'label': 'CHN', 'value': 'CHN'},\n",
       " {'label': 'POL', 'value': 'POL'},\n",
       " {'label': 'ISR', 'value': 'ISR'},\n",
       " {'label': 'RUS', 'value': 'RUS'},\n",
       " {'label': 'NOR', 'value': 'NOR'},\n",
       " {'label': 'ROU', 'value': 'ROU'},\n",
       " {'label': 'FIN', 'value': 'FIN'},\n",
       " {'label': 'DNK', 'value': 'DNK'},\n",
       " {'label': 'AUS', 'value': 'AUS'},\n",
       " {'label': 'AGO', 'value': 'AGO'},\n",
       " {'label': 'LUX', 'value': 'LUX'},\n",
       " {'label': 'MAR', 'value': 'MAR'},\n",
       " {'label': 'TUR', 'value': 'TUR'},\n",
       " {'label': 'HUN', 'value': 'HUN'},\n",
       " {'label': 'ARG', 'value': 'ARG'},\n",
       " {'label': 'JPN', 'value': 'JPN'},\n",
       " {'label': 'CZE', 'value': 'CZE'},\n",
       " {'label': 'IND', 'value': 'IND'},\n",
       " {'label': 'KOR', 'value': 'KOR'},\n",
       " {'label': 'GRC', 'value': 'GRC'},\n",
       " {'label': 'DZA', 'value': 'DZA'},\n",
       " {'label': 'SRB', 'value': 'SRB'},\n",
       " {'label': 'HRV', 'value': 'HRV'},\n",
       " {'label': 'MEX', 'value': 'MEX'},\n",
       " {'label': 'IRN', 'value': 'IRN'},\n",
       " {'label': 'EST', 'value': 'EST'},\n",
       " {'label': 'LTU', 'value': 'LTU'},\n",
       " {'label': 'ZAF', 'value': 'ZAF'},\n",
       " {'label': 'BGR', 'value': 'BGR'},\n",
       " {'label': 'NZL', 'value': 'NZL'},\n",
       " {'label': 'COL', 'value': 'COL'},\n",
       " {'label': 'UKR', 'value': 'UKR'},\n",
       " {'label': 'MOZ', 'value': 'MOZ'},\n",
       " {'label': 'CHL', 'value': 'CHL'},\n",
       " {'label': 'SVK', 'value': 'SVK'},\n",
       " {'label': 'THA', 'value': 'THA'},\n",
       " {'label': 'SVN', 'value': 'SVN'},\n",
       " {'label': 'ISL', 'value': 'ISL'},\n",
       " {'label': 'LVA', 'value': 'LVA'},\n",
       " {'label': 'TWN', 'value': 'TWN'},\n",
       " {'label': 'CYP', 'value': 'CYP'},\n",
       " {'label': 'ARE', 'value': 'ARE'},\n",
       " {'label': 'SAU', 'value': 'SAU'},\n",
       " {'label': 'PHL', 'value': 'PHL'},\n",
       " {'label': 'TUN', 'value': 'TUN'},\n",
       " {'label': 'SGP', 'value': 'SGP'},\n",
       " {'label': 'IDN', 'value': 'IDN'},\n",
       " {'label': 'NGA', 'value': 'NGA'},\n",
       " {'label': 'URY', 'value': 'URY'},\n",
       " {'label': 'EGY', 'value': 'EGY'},\n",
       " {'label': 'LBN', 'value': 'LBN'},\n",
       " {'label': 'PER', 'value': 'PER'},\n",
       " {'label': 'HKG', 'value': 'HKG'},\n",
       " {'label': 'MYS', 'value': 'MYS'},\n",
       " {'label': 'ECU', 'value': 'ECU'},\n",
       " {'label': 'VEN', 'value': 'VEN'},\n",
       " {'label': 'BLR', 'value': 'BLR'},\n",
       " {'label': 'CPV', 'value': 'CPV'},\n",
       " {'label': 'GEO', 'value': 'GEO'},\n",
       " {'label': 'JOR', 'value': 'JOR'},\n",
       " {'label': 'KAZ', 'value': 'KAZ'},\n",
       " {'label': 'CRI', 'value': 'CRI'},\n",
       " {'label': 'OMN', 'value': 'OMN'},\n",
       " {'label': 'MLT', 'value': 'MLT'},\n",
       " {'label': 'GIB', 'value': 'GIB'},\n",
       " {'label': 'AZE', 'value': 'AZE'},\n",
       " {'label': 'MAC', 'value': 'MAC'},\n",
       " {'label': 'KWT', 'value': 'KWT'},\n",
       " {'label': 'QAT', 'value': 'QAT'},\n",
       " {'label': 'PAK', 'value': 'PAK'},\n",
       " {'label': 'DOM', 'value': 'DOM'},\n",
       " {'label': 'IRQ', 'value': 'IRQ'},\n",
       " {'label': 'BIH', 'value': 'BIH'},\n",
       " {'label': 'PRI', 'value': 'PRI'},\n",
       " {'label': 'BGD', 'value': 'BGD'},\n",
       " {'label': 'MDV', 'value': 'MDV'},\n",
       " {'label': 'ALB', 'value': 'ALB'},\n",
       " {'label': 'SEN', 'value': 'SEN'},\n",
       " {'label': 'BOL', 'value': 'BOL'},\n",
       " {'label': 'CMR', 'value': 'CMR'},\n",
       " {'label': 'MKD', 'value': 'MKD'},\n",
       " {'label': 'PAN', 'value': 'PAN'},\n",
       " {'label': 'GNB', 'value': 'GNB'},\n",
       " {'label': 'TJK', 'value': 'TJK'},\n",
       " {'label': 'VNM', 'value': 'VNM'},\n",
       " {'label': 'JEY', 'value': 'JEY'},\n",
       " {'label': 'LBY', 'value': 'LBY'},\n",
       " {'label': 'ARM', 'value': 'ARM'},\n",
       " {'label': 'CUB', 'value': 'CUB'},\n",
       " {'label': 'AND', 'value': 'AND'},\n",
       " {'label': 'MUS', 'value': 'MUS'},\n",
       " {'label': 'LKA', 'value': 'LKA'},\n",
       " {'label': 'KEN', 'value': 'KEN'},\n",
       " {'label': 'CIV', 'value': 'CIV'},\n",
       " {'label': 'JAM', 'value': 'JAM'},\n",
       " {'label': 'FRO', 'value': 'FRO'},\n",
       " {'label': 'BHR', 'value': 'BHR'},\n",
       " {'label': 'MNE', 'value': 'MNE'},\n",
       " {'label': 'TZA', 'value': 'TZA'},\n",
       " {'label': 'SUR', 'value': 'SUR'},\n",
       " {'label': 'CAF', 'value': 'CAF'},\n",
       " {'label': 'PRY', 'value': 'PRY'},\n",
       " {'label': 'UZB', 'value': 'UZB'},\n",
       " {'label': 'GAB', 'value': 'GAB'},\n",
       " {'label': 'ZWE', 'value': 'ZWE'},\n",
       " {'label': 'BRB', 'value': 'BRB'},\n",
       " {'label': 'MCO', 'value': 'MCO'},\n",
       " {'label': 'GHA', 'value': 'GHA'},\n",
       " {'label': 'GTM', 'value': 'GTM'},\n",
       " {'label': 'SYR', 'value': 'SYR'},\n",
       " {'label': 'ETH', 'value': 'ETH'},\n",
       " {'label': 'LIE', 'value': 'LIE'},\n",
       " {'label': 'BEN', 'value': 'BEN'},\n",
       " {'label': 'TMP', 'value': 'TMP'},\n",
       " {'label': 'GGY', 'value': 'GGY'},\n",
       " {'label': 'MYT', 'value': 'MYT'},\n",
       " {'label': 'LAO', 'value': 'LAO'},\n",
       " {'label': 'GLP', 'value': 'GLP'},\n",
       " {'label': 'ZMB', 'value': 'ZMB'},\n",
       " {'label': 'KHM', 'value': 'KHM'},\n",
       " {'label': 'UGA', 'value': 'UGA'},\n",
       " {'label': 'MWI', 'value': 'MWI'},\n",
       " {'label': 'KNA', 'value': 'KNA'},\n",
       " {'label': 'TGO', 'value': 'TGO'},\n",
       " {'label': 'ATA', 'value': 'ATA'},\n",
       " {'label': 'STP', 'value': 'STP'},\n",
       " {'label': 'SLV', 'value': 'SLV'},\n",
       " {'label': 'COM', 'value': 'COM'},\n",
       " {'label': 'SYC', 'value': 'SYC'},\n",
       " {'label': 'IMN', 'value': 'IMN'},\n",
       " {'label': 'ABW', 'value': 'ABW'},\n",
       " {'label': 'RWA', 'value': 'RWA'},\n",
       " {'label': 'BDI', 'value': 'BDI'},\n",
       " {'label': 'NPL', 'value': 'NPL'},\n",
       " {'label': 'SDN', 'value': 'SDN'},\n",
       " {'label': 'SLE', 'value': 'SLE'},\n",
       " {'label': 'BHS', 'value': 'BHS'},\n",
       " {'label': 'MMR', 'value': 'MMR'},\n",
       " {'label': 'LCA', 'value': 'LCA'},\n",
       " {'label': 'AIA', 'value': 'AIA'},\n",
       " {'label': 'MDG', 'value': 'MDG'},\n",
       " {'label': 'KIR', 'value': 'KIR'},\n",
       " {'label': 'ASM', 'value': 'ASM'},\n",
       " {'label': 'NAM', 'value': 'NAM'},\n",
       " {'label': 'CYM', 'value': 'CYM'},\n",
       " {'label': 'VGB', 'value': 'VGB'},\n",
       " {'label': 'BWA', 'value': 'BWA'},\n",
       " {'label': 'PLW', 'value': 'PLW'},\n",
       " {'label': 'BFA', 'value': 'BFA'},\n",
       " {'label': 'SMR', 'value': 'SMR'},\n",
       " {'label': 'PYF', 'value': 'PYF'},\n",
       " {'label': 'NCL', 'value': 'NCL'},\n",
       " {'label': 'ATF', 'value': 'ATF'},\n",
       " {'label': 'MLI', 'value': 'MLI'},\n",
       " {'label': 'FJI', 'value': 'FJI'},\n",
       " {'label': 'NIC', 'value': 'NIC'},\n",
       " {'label': 'UMI', 'value': 'UMI'},\n",
       " {'label': 'DJI', 'value': 'DJI'},\n",
       " {'label': 'HND', 'value': 'HND'},\n",
       " {'label': 'MRT', 'value': 'MRT'},\n",
       " {'label': 'DMA', 'value': 'DMA'},\n",
       " {'label': 'GUY', 'value': 'GUY'}]"
      ]
     },
     "execution_count": 330,
     "metadata": {},
     "output_type": "execute_result"
    }
   ],
   "source": [
    "#creating features for dashly app\n",
    "country_names = list(df['country'].value_counts().index)\n",
    "column2 = pd.Series(country_names)\n",
    "df2.columns = ['label','value']\n",
    "df2.to_dict('records')\n",
    "#These list of dicitionaries will be used to make an interactive feature in the plotly dash app"
   ]
  }
 ],
 "metadata": {
  "kernelspec": {
   "display_name": "Python 3",
   "language": "python",
   "name": "python3"
  },
  "language_info": {
   "codemirror_mode": {
    "name": "ipython",
    "version": 3
   },
   "file_extension": ".py",
   "mimetype": "text/x-python",
   "name": "python",
   "nbconvert_exporter": "python",
   "pygments_lexer": "ipython3",
   "version": "3.7.3"
  }
 },
 "nbformat": 4,
 "nbformat_minor": 4
}
